{
 "cells": [
  {
   "cell_type": "code",
   "execution_count": 2,
   "id": "d1035aaa-7b27-420a-abbc-0acc22bfd474",
   "metadata": {},
   "outputs": [],
   "source": [
    "# try:\n",
    "#     <operation>\n",
    "# except:\n",
    "#     <operations>"
   ]
  },
  {
   "cell_type": "code",
   "execution_count": 6,
   "id": "4f226b23-f89c-40a9-b77a-79ee8b1ba2c6",
   "metadata": {},
   "outputs": [
    {
     "name": "stdin",
     "output_type": "stream",
     "text": [
      "Enter a =  10\n",
      "Enter b =  0\n"
     ]
    },
    {
     "name": "stdout",
     "output_type": "stream",
     "text": [
      "There is some error\n"
     ]
    }
   ],
   "source": [
    "try:\n",
    "    a = int(input(\"Enter a = \"))\n",
    "    b = int(input(\"Enter b = \"))\n",
    "    c = a/b\n",
    "    print(c)\n",
    "except:\n",
    "    print(\"There is some error\")"
   ]
  },
  {
   "cell_type": "code",
   "execution_count": 23,
   "id": "a94cf388-f96d-49b4-9524-78dc9dd50161",
   "metadata": {},
   "outputs": [
    {
     "name": "stdin",
     "output_type": "stream",
     "text": [
      "Enter a =  10\n",
      "Enter b =  0\n"
     ]
    },
    {
     "name": "stdout",
     "output_type": "stream",
     "text": [
      "The value of b can not be zer\n"
     ]
    }
   ],
   "source": [
    "try:\n",
    "    a = int(input(\"Enter a = \"))\n",
    "    b = int(input(\"Enter b = \"))\n",
    "    c = a/b\n",
    "    print(c)\n",
    "except ValueError:\n",
    "    print(\"You should enter only int value\")\n",
    "except ZeroDivisionError:\n",
    "    print(\"The value of b can not be zer\")"
   ]
  },
  {
   "cell_type": "code",
   "execution_count": 33,
   "id": "4c5fd7f7-d981-40fc-9ce4-fe95512dc4e7",
   "metadata": {},
   "outputs": [
    {
     "name": "stdin",
     "output_type": "stream",
     "text": [
      "Enter username =  sadasd\n",
      "Enter password =  asdsad\n"
     ]
    },
    {
     "name": "stdout",
     "output_type": "stream",
     "text": [
      "Username and password does not match\n"
     ]
    }
   ],
   "source": [
    "username = \"admin\"\n",
    "password = \"admin\"\n",
    "\n",
    "try:\n",
    "    user = input(\"Enter username = \")\n",
    "    pas = input(\"Enter password = \")\n",
    "    if username == user and pas == password:\n",
    "        print(\"you are logedin\")\n",
    "    else:\n",
    "        raise ValueError\n",
    "        \n",
    "except:\n",
    "    print(\"Username and password does not match\")"
   ]
  },
  {
   "cell_type": "code",
   "execution_count": 48,
   "id": "b6e28bc9-6d7b-4146-ab80-2d7204d97843",
   "metadata": {},
   "outputs": [
    {
     "name": "stdin",
     "output_type": "stream",
     "text": [
      "Enter username =  asds\n",
      "Enter password =  asdsads\n"
     ]
    },
    {
     "name": "stdout",
     "output_type": "stream",
     "text": [
      "Username and password does not match\n"
     ]
    },
    {
     "name": "stdin",
     "output_type": "stream",
     "text": [
      "Enter username =  admin\n",
      "Enter password =  admin\n"
     ]
    },
    {
     "name": "stdout",
     "output_type": "stream",
     "text": [
      "you are logedin in 2 attempt\n"
     ]
    }
   ],
   "source": [
    "username = \"admin\"\n",
    "password = \"admin\"\n",
    "c = 1\n",
    "def login():\n",
    "    global c\n",
    "    try:\n",
    "        user = input(\"Enter username = \")\n",
    "        pas = input(\"Enter password = \")\n",
    "        if username == user and pas == password:\n",
    "            print(f\"you are logedin in {c} attempt\")\n",
    "        else:\n",
    "            raise ValueError\n",
    "            \n",
    "    except:\n",
    "        print(\"Username and password does not match\")\n",
    "        c = c + 1\n",
    "        login()\n",
    "        \n",
    "        \n",
    "login()"
   ]
  },
  {
   "cell_type": "code",
   "execution_count": null,
   "id": "b5ca0f29-e2ed-457b-8734-aa2d70c57a1c",
   "metadata": {},
   "outputs": [],
   "source": []
  },
  {
   "cell_type": "code",
   "execution_count": 52,
   "id": "19ea17a7-5bca-4203-b5fd-30e5428f70a0",
   "metadata": {},
   "outputs": [
    {
     "name": "stdin",
     "output_type": "stream",
     "text": [
      "Enter a =  10\n",
      "Enter b =  2\n"
     ]
    },
    {
     "name": "stdout",
     "output_type": "stream",
     "text": [
      "5.0\n"
     ]
    }
   ],
   "source": [
    "try:\n",
    "    a = int(input(\"Enter a = \"))\n",
    "    b = int(input(\"Enter b = \"))\n",
    "    c = a/b\n",
    "except:\n",
    "    print(\"There is some error\")\n",
    "else:\n",
    "    print(c)"
   ]
  },
  {
   "cell_type": "code",
   "execution_count": 56,
   "id": "b2180572-f6b1-433b-8173-071d55c76450",
   "metadata": {},
   "outputs": [
    {
     "name": "stdout",
     "output_type": "stream",
     "text": [
      "Name,Age,Address\n",
      "\n",
      "Aayush,23,Katmandu\n",
      "\n",
      "Shyam,33,Patan\n",
      "\n",
      "\n"
     ]
    }
   ],
   "source": [
    "try:\n",
    "    file = open(\"data.csv\",'r')\n",
    "except:\n",
    "    print(\"There is no such file.\")\n",
    "else:\n",
    "    print(file.read())\n",
    "    file.close()"
   ]
  },
  {
   "cell_type": "code",
   "execution_count": 58,
   "id": "1943d49b-15c1-48f9-a04f-3fa98b5ba946",
   "metadata": {},
   "outputs": [],
   "source": [
    "# assert"
   ]
  },
  {
   "cell_type": "code",
   "execution_count": 68,
   "id": "20fcb6b5-5ab1-4c02-baca-041fbdaad06d",
   "metadata": {},
   "outputs": [
    {
     "name": "stdin",
     "output_type": "stream",
     "text": [
      "Enter age =  20\n"
     ]
    },
    {
     "ename": "AssertionError",
     "evalue": "",
     "output_type": "error",
     "traceback": [
      "\u001b[1;31m---------------------------------------------------------------------------\u001b[0m",
      "\u001b[1;31mAssertionError\u001b[0m                            Traceback (most recent call last)",
      "Cell \u001b[1;32mIn[68], line 2\u001b[0m\n\u001b[0;32m      1\u001b[0m age \u001b[38;5;241m=\u001b[39m \u001b[38;5;28mint\u001b[39m(\u001b[38;5;28minput\u001b[39m(\u001b[38;5;124m\"\u001b[39m\u001b[38;5;124mEnter age = \u001b[39m\u001b[38;5;124m\"\u001b[39m))\n\u001b[1;32m----> 2\u001b[0m \u001b[38;5;28;01massert\u001b[39;00m age \u001b[38;5;241m>\u001b[39m \u001b[38;5;241m20\u001b[39m\n\u001b[0;32m      3\u001b[0m \u001b[38;5;28mprint\u001b[39m(\u001b[38;5;124m\"\u001b[39m\u001b[38;5;124mWelcome\u001b[39m\u001b[38;5;124m\"\u001b[39m)\n",
      "\u001b[1;31mAssertionError\u001b[0m: "
     ]
    }
   ],
   "source": [
    "age = int(input(\"Enter age = \"))\n",
    "assert age > 20\n",
    "print(\"Welcome\")"
   ]
  },
  {
   "cell_type": "code",
   "execution_count": 74,
   "id": "31e729be-ab2b-4f58-a832-fb488833c288",
   "metadata": {},
   "outputs": [
    {
     "name": "stdin",
     "output_type": "stream",
     "text": [
      "Enter age =  22\n"
     ]
    },
    {
     "name": "stdout",
     "output_type": "stream",
     "text": [
      "Welcome\n"
     ]
    }
   ],
   "source": [
    "age = int(input(\"Enter age = \"))\n",
    "try:\n",
    "    assert age > 20\n",
    "except:\n",
    "    print(\"you are under age!\")\n",
    "else:\n",
    "    print(\"Welcome\")\n"
   ]
  },
  {
   "cell_type": "code",
   "execution_count": 12,
   "id": "becba5c5-662b-4419-86b4-c1fa906f84b5",
   "metadata": {},
   "outputs": [
    {
     "name": "stdin",
     "output_type": "stream",
     "text": [
      "Enter 1 for ntc no and 2 for ncell =  2\n",
      "Enter Sn =  2\n"
     ]
    },
    {
     "name": "stdout",
     "output_type": "stream",
     "text": [
      "The person dont have the no\n"
     ]
    }
   ],
   "source": [
    "#\n",
    "d = {1:{'name':'Ram','ntc':9867887654,'ncell':9808778765},\n",
    "    2:{'name':'Rama','ntc':9867887653}}\n",
    "try:\n",
    "    x = int(input(\"Enter 1 for ntc no and 2 for ncell = \"))\n",
    "    i = int(input(\"Enter Sn = \"))\n",
    "    if x ==1:\n",
    "        ntc_no = d[i]['ntc']\n",
    "        print(ntc_no)\n",
    "    else:\n",
    "        ncell_no = d[i]['ncell']\n",
    "        print(ncell_no)\n",
    "except:\n",
    "    print(\"The person dont have the no\")"
   ]
  },
  {
   "cell_type": "code",
   "execution_count": null,
   "id": "f1c237c8-ee54-4bf9-8abe-0873088db922",
   "metadata": {},
   "outputs": [],
   "source": []
  }
 ],
 "metadata": {
  "kernelspec": {
   "display_name": "Python 3 (ipykernel)",
   "language": "python",
   "name": "python3"
  },
  "language_info": {
   "codemirror_mode": {
    "name": "ipython",
    "version": 3
   },
   "file_extension": ".py",
   "mimetype": "text/x-python",
   "name": "python",
   "nbconvert_exporter": "python",
   "pygments_lexer": "ipython3",
   "version": "3.12.7"
  }
 },
 "nbformat": 4,
 "nbformat_minor": 5
}
