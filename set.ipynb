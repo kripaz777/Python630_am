{
 "cells": [
  {
   "cell_type": "code",
   "execution_count": 1,
   "id": "3d09f8ed-9342-4de0-a1d2-63812944575c",
   "metadata": {},
   "outputs": [],
   "source": [
    "# Set\n",
    "# -No Indexing\n",
    "# -Unordered\n",
    "# -No Duplicate but multiple data\n",
    "# -Mutable"
   ]
  },
  {
   "cell_type": "code",
   "execution_count": 3,
   "id": "c7740495-88f8-447f-9166-f5afb3b902ae",
   "metadata": {},
   "outputs": [
    {
     "name": "stdout",
     "output_type": "stream",
     "text": [
      "<class 'set'>\n"
     ]
    }
   ],
   "source": [
    "s = set()\n",
    "s = {1,2,3,4}\n",
    "print(type(s))"
   ]
  },
  {
   "cell_type": "code",
   "execution_count": 1,
   "id": "cbe38b15-eb2f-4edb-a7d1-271d16ea3f18",
   "metadata": {},
   "outputs": [
    {
     "name": "stdout",
     "output_type": "stream",
     "text": [
      "{'Apple', 'Cat', 'Ball', 'Dog'}\n"
     ]
    }
   ],
   "source": [
    "s = {\"Apple\",\"Ball\",\"Cat\",\"Dog\"}\n",
    "print(s)"
   ]
  },
  {
   "cell_type": "code",
   "execution_count": 3,
   "id": "d8ba5368-061f-4759-91b6-3936d5ea8139",
   "metadata": {},
   "outputs": [
    {
     "name": "stdout",
     "output_type": "stream",
     "text": [
      "{'Apple', 'Cat', 'Ball', 'Dog'}\n"
     ]
    }
   ],
   "source": [
    "s = {\"Apple\",\"Ball\",\"Cat\",\"Dog\",\"Apple\"}\n",
    "print(s)"
   ]
  },
  {
   "cell_type": "code",
   "execution_count": 5,
   "id": "c905de5b-3d4f-480a-9692-c718e683b26a",
   "metadata": {},
   "outputs": [],
   "source": [
    "# in set there is no + *"
   ]
  },
  {
   "cell_type": "code",
   "execution_count": 7,
   "id": "7ef2917f-ec15-433b-93b4-a1ee6f609d76",
   "metadata": {},
   "outputs": [],
   "source": [
    "# add() update()"
   ]
  },
  {
   "cell_type": "code",
   "execution_count": 11,
   "id": "173fc3c4-0351-4170-bfd3-fbbdad10bbfb",
   "metadata": {},
   "outputs": [
    {
     "data": {
      "text/plain": [
       "{'Apple', 'Ball'}"
      ]
     },
     "execution_count": 11,
     "metadata": {},
     "output_type": "execute_result"
    }
   ],
   "source": [
    "#Mutable\n",
    "s = set()\n",
    "s.add(\"Apple\")\n",
    "s.add(\"Ball\")\n",
    "s"
   ]
  },
  {
   "cell_type": "code",
   "execution_count": 13,
   "id": "d329a3b4-8541-498f-9eba-7c4e73c6af7b",
   "metadata": {},
   "outputs": [
    {
     "name": "stdout",
     "output_type": "stream",
     "text": [
      "{1, 2, 3, 4, 5, 6, 7, 8}\n"
     ]
    }
   ],
   "source": [
    "a = {1,2,3,4}\n",
    "b = {5,6,7,8}\n",
    "a.update(b)\n",
    "print(a)"
   ]
  },
  {
   "cell_type": "code",
   "execution_count": 15,
   "id": "e16db2dd-120d-4de0-b906-dff31d35b258",
   "metadata": {},
   "outputs": [
    {
     "name": "stdout",
     "output_type": "stream",
     "text": [
      "{'Cat', 'Ball', 'Dog'}\n"
     ]
    }
   ],
   "source": [
    "#remove()\n",
    "s = {\"Apple\",\"Ball\",\"Cat\",\"Dog\",\"Apple\"}\n",
    "s.remove(\"Apple\")\n",
    "print(s)"
   ]
  },
  {
   "cell_type": "code",
   "execution_count": 19,
   "id": "5d3c7ee5-9468-4cb5-91b3-155dc0d18f9d",
   "metadata": {},
   "outputs": [],
   "source": [
    "# s = {\"Apple\",\"Ball\",\"Cat\",\"Dog\",\"Apple\"}\n",
    "# s.replace(\"Apple\",\"apple\")"
   ]
  },
  {
   "cell_type": "code",
   "execution_count": 29,
   "id": "35e097ac-7fb2-41d5-8800-1deb480450e3",
   "metadata": {},
   "outputs": [
    {
     "data": {
      "text/plain": [
       "['Apple', 'Cat', 'Ball', 'Dog']"
      ]
     },
     "execution_count": 29,
     "metadata": {},
     "output_type": "execute_result"
    }
   ],
   "source": [
    "l = [\"Apple\",\"Ball\",\"Cat\",\"Cat\",\"Dog\",\"Apple\"]\n",
    "s = set(l)\n",
    "l = list(s)\n",
    "l"
   ]
  },
  {
   "cell_type": "code",
   "execution_count": 31,
   "id": "0d994117-915a-47e0-b020-886ac2f9ffe5",
   "metadata": {},
   "outputs": [],
   "source": [
    "# intersection() union() difference() isdisjoint() issubset() issuperset()"
   ]
  },
  {
   "cell_type": "code",
   "execution_count": 43,
   "id": "5a34aa39-42ad-4044-9a0b-9428f8e78968",
   "metadata": {},
   "outputs": [
    {
     "name": "stdout",
     "output_type": "stream",
     "text": [
      "{'Jack', 'Sam'}\n",
      "{'Bill', 'Shyam', 'Jack', 'Hari', 'Sam', 'Chang', 'Satya', 'Ram', 'Santosh', 'Nabin', 'Steave', 'Kate'}\n",
      "{'Shyam', 'Hari', 'Ram', 'Steave', 'Kate'}\n",
      "{'Bill', 'Chang', 'Satya', 'Santosh', 'Nabin'}\n",
      "{'xyz', 'abc'}\n"
     ]
    }
   ],
   "source": [
    "#intersection\n",
    "U = {'Bill', 'Shyam', 'Jack', \"xyz\",\"abc\",'Hari', 'Sam', 'Chang', 'Satya', 'Ram', 'Santosh', 'Nabin', 'Steave', 'Kate'}\n",
    "\n",
    "apple = {\"Ram\",\"Shyam\",\"Steave\",\"Sam\",\"Jack\",\"Kate\",\"Hari\"}\n",
    "ms = {\"Satya\",\"Bill\",\"Sam\",\"Jack\",\"Chang\",\"Nabin\",\"Santosh\"}\n",
    "\n",
    "print(apple.intersection(ms))\n",
    "print(apple.union(ms))\n",
    "print(apple - ms)\n",
    "print(ms - apple)\n",
    "print(U - apple.union(ms))"
   ]
  },
  {
   "cell_type": "code",
   "execution_count": 47,
   "id": "1bb53989-272c-4f94-a646-6956a9664c95",
   "metadata": {},
   "outputs": [
    {
     "data": {
      "text/plain": [
       "True"
      ]
     },
     "execution_count": 47,
     "metadata": {},
     "output_type": "execute_result"
    }
   ],
   "source": [
    "a = {1,2,3,4,5,6,7,8,9,10,0}\n",
    "b = {1,2,3,4}\n",
    "b.issubset(a)"
   ]
  },
  {
   "cell_type": "code",
   "execution_count": 49,
   "id": "d3138807-d291-43c8-b41a-4dae520ddcf9",
   "metadata": {},
   "outputs": [],
   "source": [
    "# No set inside set because there is no mutable data inside set"
   ]
  },
  {
   "cell_type": "code",
   "execution_count": 61,
   "id": "4ff4f2cf-b373-43d1-9573-81e5b97723c6",
   "metadata": {},
   "outputs": [
    {
     "data": {
      "text/plain": [
       "{(1, 2, 3), (2, 3, 4)}"
      ]
     },
     "execution_count": 61,
     "metadata": {},
     "output_type": "execute_result"
    }
   ],
   "source": [
    "a = {(1,2,3),(2,3,4)}\n",
    "a\n"
   ]
  },
  {
   "cell_type": "code",
   "execution_count": null,
   "id": "c0acafae-78fd-43c3-9670-01b7ab38ed7d",
   "metadata": {},
   "outputs": [],
   "source": []
  }
 ],
 "metadata": {
  "kernelspec": {
   "display_name": "Python 3 (ipykernel)",
   "language": "python",
   "name": "python3"
  },
  "language_info": {
   "codemirror_mode": {
    "name": "ipython",
    "version": 3
   },
   "file_extension": ".py",
   "mimetype": "text/x-python",
   "name": "python",
   "nbconvert_exporter": "python",
   "pygments_lexer": "ipython3",
   "version": "3.12.7"
  }
 },
 "nbformat": 4,
 "nbformat_minor": 5
}
