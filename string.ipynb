{
 "cells": [
  {
   "cell_type": "code",
   "execution_count": 1,
   "id": "54a6d4c9-6120-47e1-b144-037f4f5f0a30",
   "metadata": {},
   "outputs": [
    {
     "name": "stdout",
     "output_type": "stream",
     "text": [
      "<class 'str'>\n",
      "<class 'str'>\n",
      "<class 'str'>\n"
     ]
    }
   ],
   "source": [
    "# String\n",
    "a = 'Hello World'\n",
    "b = \"Hello World\"\n",
    "c = ''' Hello World'''\n",
    "print(type(a))\n",
    "print(type(b))\n",
    "print(type(c))"
   ]
  },
  {
   "cell_type": "code",
   "execution_count": 3,
   "id": "9bc776dd-d54f-44ed-9ba7-eaca93e0963c",
   "metadata": {},
   "outputs": [
    {
     "name": "stdout",
     "output_type": "stream",
     "text": [
      "Hello World\n"
     ]
    }
   ],
   "source": [
    "a = \"Hello \"\n",
    "b = \"World\"\n",
    "c = a+b\n",
    "print(c)"
   ]
  },
  {
   "cell_type": "code",
   "execution_count": 9,
   "id": "993c2fec-5d4a-469a-9a61-8246a8c7bcbb",
   "metadata": {},
   "outputs": [
    {
     "name": "stdout",
     "output_type": "stream",
     "text": [
      "Hello World\n",
      "Hello World\n",
      "\n"
     ]
    }
   ],
   "source": [
    "a = \"Hello World\\n\"\n",
    "b = 2\n",
    "print(a*b)"
   ]
  },
  {
   "cell_type": "code",
   "execution_count": 11,
   "id": "5dfa1010-222d-46a3-a59f-72c82d70fce2",
   "metadata": {},
   "outputs": [],
   "source": [
    "# String is imutable"
   ]
  },
  {
   "cell_type": "code",
   "execution_count": 19,
   "id": "14b58f7f-7250-4478-9662-89b0f4d27e49",
   "metadata": {},
   "outputs": [
    {
     "name": "stdout",
     "output_type": "stream",
     "text": [
      "H\n",
      "d\n"
     ]
    }
   ],
   "source": [
    "a = \"Hello World\"\n",
    "print(a[0])\n",
    "print(a[-1])"
   ]
  },
  {
   "cell_type": "code",
   "execution_count": 23,
   "id": "54f632ed-8cf0-4b8f-9913-1ab78a3cb55a",
   "metadata": {},
   "outputs": [
    {
     "name": "stdout",
     "output_type": "stream",
     "text": [
      "Hello\n",
      "World\n"
     ]
    }
   ],
   "source": [
    "print(a[:5]) #string slicing\n",
    "print(a[6:])"
   ]
  },
  {
   "cell_type": "code",
   "execution_count": 25,
   "id": "69fc1a31-80ad-497f-89aa-5d40bfc048ff",
   "metadata": {},
   "outputs": [
    {
     "name": "stdout",
     "output_type": "stream",
     "text": [
      "World\n"
     ]
    }
   ],
   "source": [
    "print(a[6:100])"
   ]
  },
  {
   "cell_type": "code",
   "execution_count": 38,
   "id": "e49d531c-da09-4754-b7c7-bb6d1d57d3e9",
   "metadata": {},
   "outputs": [
    {
     "name": "stdout",
     "output_type": "stream",
     "text": [
      "HloWrd\n"
     ]
    }
   ],
   "source": [
    "print(a[0:11:2])"
   ]
  },
  {
   "cell_type": "code",
   "execution_count": 30,
   "id": "77ec28ac-78a4-401f-bcb7-b962b4c1d64d",
   "metadata": {},
   "outputs": [
    {
     "name": "stdout",
     "output_type": "stream",
     "text": [
      "11\n"
     ]
    }
   ],
   "source": [
    "a = \"Hello World\"\n",
    "c = len(a)\n",
    "print(c)"
   ]
  },
  {
   "cell_type": "code",
   "execution_count": 52,
   "id": "617317c5-8cfc-40d6-91e4-2f46ebdde050",
   "metadata": {},
   "outputs": [
    {
     "name": "stdout",
     "output_type": "stream",
     "text": [
      "dlroW olle\n"
     ]
    }
   ],
   "source": [
    "print(a[10:0:-1])"
   ]
  },
  {
   "cell_type": "code",
   "execution_count": 48,
   "id": "3da5a2e9-3679-4f51-a338-e760f688be81",
   "metadata": {},
   "outputs": [
    {
     "name": "stdout",
     "output_type": "stream",
     "text": [
      "dlroW olleH\n"
     ]
    }
   ],
   "source": [
    "print(a[::-1])"
   ]
  },
  {
   "cell_type": "code",
   "execution_count": 54,
   "id": "bfee519d-7ee4-4bda-9d6a-4e0572d90581",
   "metadata": {},
   "outputs": [
    {
     "name": "stdout",
     "output_type": "stream",
     "text": [
      "H\n",
      "e\n",
      "l\n",
      "l\n",
      "o\n",
      " \n",
      "W\n",
      "o\n",
      "r\n",
      "l\n",
      "d\n"
     ]
    }
   ],
   "source": [
    "for i in a:\n",
    "    print(i)"
   ]
  },
  {
   "cell_type": "code",
   "execution_count": 64,
   "id": "6ba3405d-4b91-4d97-bb81-0961f9262c5d",
   "metadata": {},
   "outputs": [
    {
     "name": "stdout",
     "output_type": "stream",
     "text": [
      "Hello World. I am Python."
     ]
    }
   ],
   "source": [
    "a = \"Hello World. I am Python.\"\n",
    "l = len(a)\n",
    "for i in range(l):\n",
    "    print(a[i],end = \"\")"
   ]
  },
  {
   "cell_type": "code",
   "execution_count": 72,
   "id": "a4ba294b-ca30-405f-bf34-536497df8b96",
   "metadata": {},
   "outputs": [
    {
     "name": "stdout",
     "output_type": "stream",
     "text": [
      "11\n",
      "24\n"
     ]
    }
   ],
   "source": [
    "a = \"Hello World. I am Python.\"\n",
    "l = len(a)\n",
    "for i in range(l):\n",
    "    if a[i] == \".\":\n",
    "        print(i)"
   ]
  },
  {
   "cell_type": "code",
   "execution_count": 87,
   "id": "d39b9c2f-423b-4e35-99c7-f0f1d4b2ec37",
   "metadata": {},
   "outputs": [
    {
     "name": "stdout",
     "output_type": "stream",
     "text": [
      "25\n",
      "Hello World. I am Python."
     ]
    }
   ],
   "source": [
    "i = 0\n",
    "a = \"Hello World. I am Python.\"\n",
    "l = len(a)\n",
    "print(l)\n",
    "while i<l:\n",
    "    print(a[i],end = \"\")\n",
    "    i = i+1"
   ]
  },
  {
   "cell_type": "code",
   "execution_count": 77,
   "id": "51440a50-29c5-47ac-80a2-db73e1b8ba8c",
   "metadata": {},
   "outputs": [
    {
     "name": "stdout",
     "output_type": "stream",
     "text": [
      "11\n",
      "24\n"
     ]
    }
   ],
   "source": [
    "i = 0\n",
    "a = \"Hello World. I am Python.\"\n",
    "l = len(a)\n",
    "while i<l:\n",
    "    if a[i] == \".\":\n",
    "        print(i)\n",
    "    i = i+1"
   ]
  },
  {
   "cell_type": "code",
   "execution_count": 89,
   "id": "cd7e67b6-d757-41ee-a2ca-c8ab23da07ef",
   "metadata": {},
   "outputs": [
    {
     "name": "stdout",
     "output_type": "stream",
     "text": [
      "Hello World I am Ram I am from Kathmandu I am 30\n"
     ]
    }
   ],
   "source": [
    "name = \"Ram\"\n",
    "age = 30\n",
    "add = \"Kathmandu\"\n",
    "info = \"Hello World I am \"+name+ \" I am from \"+add+\" I am \"+str(age)\n",
    "print(info)"
   ]
  },
  {
   "cell_type": "code",
   "execution_count": 91,
   "id": "d875beb3-a51d-4ac6-a51c-66df96a8d826",
   "metadata": {},
   "outputs": [
    {
     "name": "stdout",
     "output_type": "stream",
     "text": [
      "Hello World I am Ram I am from Kathmandu I am 30\n"
     ]
    }
   ],
   "source": [
    "# string formatting\n",
    "info = f\"Hello World I am {name} I am from {add} I am {age}\"\n",
    "print(info)"
   ]
  },
  {
   "cell_type": "code",
   "execution_count": 1,
   "id": "7d3dbf05-4e07-441d-a098-0540d3ec140d",
   "metadata": {},
   "outputs": [
    {
     "name": "stdin",
     "output_type": "stream",
     "text": [
      "Enter n =  2\n",
      "Enter Product name =  Momo\n",
      "Enter price =  150\n",
      "Enter quantity =  4\n",
      "Enter Product name =  Coke\n",
      "Enter price =  100\n",
      "Enter quantity =  5\n"
     ]
    },
    {
     "name": "stdout",
     "output_type": "stream",
     "text": [
      "Your Bill\n",
      " Momo 150 4.0 600.0\n",
      "Coke 100 5.0 500.0\n",
      "\n",
      "Your Total\n",
      " 1100.0\n"
     ]
    }
   ],
   "source": [
    "# Biil system\n",
    "bill = \"\"\n",
    "s = 0\n",
    "n = int(input(\"Enter n = \"))\n",
    "for i in range(n):\n",
    "    product = input(\"Enter Product name = \")\n",
    "    price = int(input(\"Enter price = \"))\n",
    "    qty = float(input(\"Enter quantity = \"))\n",
    "    total = price * qty\n",
    "    row = f\"{product} {price} {qty} {total}\\n\"\n",
    "    bill = bill + row\n",
    "    s = s+ total\n",
    "print(\"Your Bill\\n\",bill)\n",
    "print(\"Your Total\\n\",s)"
   ]
  },
  {
   "cell_type": "code",
   "execution_count": 11,
   "id": "4d32f1b1-44cd-4aa9-a25a-0eb90f938f32",
   "metadata": {},
   "outputs": [
    {
     "name": "stdin",
     "output_type": "stream",
     "text": [
      "Enter name =  rita\n"
     ]
    },
    {
     "name": "stdout",
     "output_type": "stream",
     "text": [
      "There is no such name\n"
     ]
    }
   ],
   "source": [
    "# search\n",
    "data = \"Ram Shyam Hari Nabin Sabin Rita\"\n",
    "name = input(\"Enter name = \")\n",
    "if name in data:\n",
    "    print(\"Yes there is \",name)\n",
    "    print(data.count(name))\n",
    "else:\n",
    "    print(\"There is no such name\")"
   ]
  },
  {
   "cell_type": "code",
   "execution_count": 17,
   "id": "c36ad899-32b1-4d19-96e6-895bc51b11af",
   "metadata": {},
   "outputs": [
    {
     "name": "stdout",
     "output_type": "stream",
     "text": [
      "ram shyam hari nabin sabin rita\n",
      "RAM SHYAM HARI NABIN SABIN RITA\n"
     ]
    }
   ],
   "source": [
    "data = \"Ram Shyam Hari Nabin Sabin Rita\"\n",
    "print(data.lower())\n",
    "print(data.upper())"
   ]
  },
  {
   "cell_type": "code",
   "execution_count": 27,
   "id": "61b3576e-daa6-4f47-af0b-35c7fc4eb8dd",
   "metadata": {},
   "outputs": [
    {
     "name": "stdin",
     "output_type": "stream",
     "text": [
      "Enter name =  Ram\n"
     ]
    },
    {
     "name": "stdout",
     "output_type": "stream",
     "text": [
      "Yes there is  ram\n",
      "2\n"
     ]
    }
   ],
   "source": [
    "# search\n",
    "data = \"Ram Shyam Hari Nabin Sabin Rita Ramesh\".lower()\n",
    "name = input(\"Enter name = \").lower()\n",
    "if name in data:\n",
    "    print(\"Yes there is \",name)\n",
    "    print(data.count(name))\n",
    "else:\n",
    "    print(\"There is no such name\")"
   ]
  },
  {
   "cell_type": "code",
   "execution_count": 35,
   "id": "289c20c0-0294-4574-a3f4-5021ca4ff51f",
   "metadata": {},
   "outputs": [],
   "source": [
    "# replace()\n",
    "data = \"Ram Shyam Hari Nabin Sabin Rita\"\n",
    "data = data.replace(\"Hari\",\"Harry\")"
   ]
  },
  {
   "cell_type": "code",
   "execution_count": 41,
   "id": "daf505f9-e99a-4cad-95e4-da2ba7cd7635",
   "metadata": {},
   "outputs": [
    {
     "name": "stdout",
     "output_type": "stream",
     "text": [
      "Ram Shyam  Nabin Sabin Rita\n"
     ]
    }
   ],
   "source": [
    "# replace()\n",
    "data = \"Ram Shyam Hari Nabin Sabin Rita\"\n",
    "data = data.replace(\"Hari\",\"\")\n",
    "print(data)"
   ]
  },
  {
   "cell_type": "code",
   "execution_count": 37,
   "id": "1831c55d-3656-49e4-902d-34f25d559118",
   "metadata": {},
   "outputs": [
    {
     "name": "stdout",
     "output_type": "stream",
     "text": [
      "Ram Shyam Harry Nabin Sabin Rita\n"
     ]
    }
   ],
   "source": [
    "print(data)"
   ]
  },
  {
   "cell_type": "code",
   "execution_count": 39,
   "id": "920765a9-2518-487a-948a-4cf798b7a2ca",
   "metadata": {},
   "outputs": [
    {
     "name": "stdout",
     "output_type": "stream",
     "text": [
      "Ram Shyam Hari Nabin Sabin Rita\n"
     ]
    }
   ],
   "source": [
    "a = \"ram shyam hari nabin sabin rita\"\n",
    "print(a.title())"
   ]
  },
  {
   "cell_type": "code",
   "execution_count": 47,
   "id": "86bc5604-92c9-42c5-a9aa-9333f226f56c",
   "metadata": {},
   "outputs": [
    {
     "name": "stdin",
     "output_type": "stream",
     "text": [
      "Enter name =  ram\n"
     ]
    },
    {
     "name": "stdout",
     "output_type": "stream",
     "text": [
      "Yes there is  ram\n",
      "3\n",
      " Shyam Hari Nabin Sabin Rita Esh \n"
     ]
    }
   ],
   "source": [
    "# search and replace\n",
    "data = \"Ram Shyam Hari Nabin Sabin Rita Ramesh ram\".lower()\n",
    "name = input(\"Enter name = \").lower()\n",
    "if name in data:\n",
    "    print(\"Yes there is \",name)\n",
    "    print(data.count(name))\n",
    "    data = data.replace(name,\"\")\n",
    "    print(data.title())\n",
    "else:\n",
    "    print(\"There is no such name\")"
   ]
  },
  {
   "cell_type": "code",
   "execution_count": 51,
   "id": "a8f3731e-aa23-41e6-9ba3-f3fc36cc258b",
   "metadata": {},
   "outputs": [
    {
     "data": {
      "text/plain": [
       "' Shyam Hari Nabin Sabin Rita Ramesh '"
      ]
     },
     "execution_count": 51,
     "metadata": {},
     "output_type": "execute_result"
    }
   ],
   "source": [
    "data = \"Ram Shyam Hari Nabin Sabin Rita Ramesh ram\"\n",
    "data = data[3:]\n",
    "data = data[0:-3]\n",
    "data"
   ]
  },
  {
   "cell_type": "code",
   "execution_count": 53,
   "id": "5823aba5-0243-4d97-9590-d0aa01ebbb50",
   "metadata": {},
   "outputs": [],
   "source": [
    "# WAP to enter marks of students calculate total per and grade and create a data entry application\n",
    "# ram,90,67,87,67,67,400,80,A\n",
    "# shyam,80,76,89,78,67,410,81,A"
   ]
  },
  {
   "cell_type": "code",
   "execution_count": 57,
   "id": "89af874e-083b-42af-b456-e2e873a998a4",
   "metadata": {},
   "outputs": [
    {
     "name": "stdin",
     "output_type": "stream",
     "text": [
      "Enter n =  2\n",
      "Enter name =  Ram\n",
      "Enter physics marks=  90\n",
      "Enter chemistry marks=  89\n",
      "Enter math marks=  78\n",
      "Enter english marks=  90\n",
      "Enter nepali marks=  78\n",
      "Enter name =  Shyam\n",
      "Enter physics marks=  90\n",
      "Enter chemistry marks=  89\n",
      "Enter math marks=  78\n",
      "Enter english marks=  67\n",
      "Enter nepali marks=  90\n"
     ]
    },
    {
     "name": "stdout",
     "output_type": "stream",
     "text": [
      "Ram 90 89 78 90 78 425 85.0 A\n",
      "Shyam 90 89 78 67 90 414 82.8 A\n",
      "\n"
     ]
    }
   ],
   "source": [
    "result = \"\"\n",
    "n = int(input(\"Enter n = \"))\n",
    "for i in range(n):\n",
    "    name = input(\"Enter name = \")\n",
    "    physics = int(input(\"Enter physics marks= \"))\n",
    "    chemistry = int(input(\"Enter chemistry marks= \"))\n",
    "    math = int(input(\"Enter math marks= \"))\n",
    "    english = int(input(\"Enter english marks= \"))\n",
    "    nepali = int(input(\"Enter nepali marks= \"))\n",
    "    total = physics + chemistry + math + english + nepali\n",
    "    per= total/5\n",
    "    if physics>=45 and chemistry>=45 and  math >= 45 and english >=45 and nepali >= 45:\n",
    "        if per >= 80:\n",
    "            grade = 'A'\n",
    "        elif per >= 60:\n",
    "            grade = 'B'\n",
    "        elif per >= 45:\n",
    "            grade = 'C'\n",
    "    else:\n",
    "        grade = 'F'\n",
    "\n",
    "    data = f\"{name} {physics} {chemistry} {math} {english} {nepali} {total} {per} {grade}\\n\"\n",
    "    result = result + data\n",
    "\n",
    "\n",
    "print(result)\n"
   ]
  },
  {
   "cell_type": "code",
   "execution_count": null,
   "id": "31f61e8d-2408-4644-8271-0c78b95ab22e",
   "metadata": {},
   "outputs": [],
   "source": [
    "# WAP to detect if the given no is prime or composite\n",
    "#WAP to write \"hello World\" in the following pattern\n",
    "    # H\n",
    "    # He\n",
    "    # Hel\n",
    "    # Hello\n",
    "    # Hello \n",
    "    # Hello W\n",
    "    # .....\n",
    "    # Hello World\n",
    "#WAP to remove \".\" and \"!\" both from \"Hello World. I am Python!\"\n"
   ]
  }
 ],
 "metadata": {
  "kernelspec": {
   "display_name": "Python 3 (ipykernel)",
   "language": "python",
   "name": "python3"
  },
  "language_info": {
   "codemirror_mode": {
    "name": "ipython",
    "version": 3
   },
   "file_extension": ".py",
   "mimetype": "text/x-python",
   "name": "python",
   "nbconvert_exporter": "python",
   "pygments_lexer": "ipython3",
   "version": "3.12.7"
  }
 },
 "nbformat": 4,
 "nbformat_minor": 5
}
