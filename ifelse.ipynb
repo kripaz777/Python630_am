{
 "cells": [
  {
   "cell_type": "code",
   "execution_count": 1,
   "id": "f8696149-8100-4175-8fe7-84433deda394",
   "metadata": {},
   "outputs": [],
   "source": [
    "# < > <= >= == !="
   ]
  },
  {
   "cell_type": "code",
   "execution_count": 3,
   "id": "07bedb54-aa05-4948-9325-4041b33f5d70",
   "metadata": {},
   "outputs": [],
   "source": [
    "# if <condition>:\n",
    "#     <operation>\n",
    "# elif <condition>:\n",
    "#     <operations>\n",
    "# ...\n",
    "# else:\n",
    "#     <operation>"
   ]
  },
  {
   "cell_type": "code",
   "execution_count": 7,
   "id": "980accf8-e7f7-4a1e-9287-1f6220124354",
   "metadata": {},
   "outputs": [
    {
     "name": "stdout",
     "output_type": "stream",
     "text": [
      "a is greater than 5\n"
     ]
    }
   ],
   "source": [
    "a = 10\n",
    "if a > 5:\n",
    "    print(\"a is greater than 5\")\n",
    "else:\n",
    "    print(\"a is smaller than 5\")"
   ]
  },
  {
   "cell_type": "code",
   "execution_count": 17,
   "id": "de67fa19-0b50-44ec-8b2f-5697b1265ef8",
   "metadata": {},
   "outputs": [
    {
     "name": "stdin",
     "output_type": "stream",
     "text": [
      "Enter a =  11\n"
     ]
    },
    {
     "name": "stdout",
     "output_type": "stream",
     "text": [
      "11 is odd value\n"
     ]
    }
   ],
   "source": [
    "# 11%2==0\n",
    "a = int(input(\"Enter a = \"))\n",
    "if a%2==0:\n",
    "    print(a, \"is even value\")\n",
    "else:\n",
    "    print(a,\"is odd value\")"
   ]
  },
  {
   "cell_type": "code",
   "execution_count": 19,
   "id": "e3aa7f7a-a963-407d-9b3a-84012d16ed20",
   "metadata": {},
   "outputs": [
    {
     "name": "stdin",
     "output_type": "stream",
     "text": [
      "Enter a =  10\n",
      "Enter b =  20\n"
     ]
    },
    {
     "name": "stdout",
     "output_type": "stream",
     "text": [
      "b is greater that a\n"
     ]
    }
   ],
   "source": [
    "a = int(input(\"Enter a = \"))\n",
    "b = int(input(\"Enter b = \"))\n",
    "if a > b:\n",
    "    print(\"a is greater that b\")\n",
    "elif b > a:\n",
    "    print(\"b is greater that a\")\n",
    "else:\n",
    "    print(\"a and b are equal\")"
   ]
  },
  {
   "cell_type": "code",
   "execution_count": null,
   "id": "ff7d34f6-c687-477f-81ea-b21a969f831f",
   "metadata": {},
   "outputs": [],
   "source": [
    "# WAP to calculate total, per of +2 science student\n",
    "physics = int(input(\"Enter physics marks = \"))\n",
    "chemistry = int(input(\"Enter physics chemistry = \"))\n",
    "math = int(input(\"Enter math marks = \"))\n",
    "english = int(input(\"Enter english marks = \"))\n",
    "nepali = int(input(\"Enter Nepali marks = \"))\n",
    "\n",
    "total = physics + chemistry + math + english + nepali\n",
    "\n",
    "per = total/5\n",
    "if per >=80:\n",
    "    grade = 'A'\n",
    "elif per >=60:\n",
    "    grade = 'B'\n",
    "elif per >=45:\n",
    "    grade = 'C'\n",
    "else:\n",
    "    grade = 'F'\n",
    "    \n",
    "print(\"Total marks = \",total)\n",
    "print(\"Per = \", per)\n",
    "print(\"Grade = \",grade)"
   ]
  },
  {
   "cell_type": "code",
   "execution_count": 21,
   "id": "727c98e6-b027-4baf-bc3d-50f803f6a950",
   "metadata": {},
   "outputs": [],
   "source": [
    "# logical operator\n",
    "# and &\n",
    "# or  |\n",
    "# not ^"
   ]
  },
  {
   "cell_type": "code",
   "execution_count": 27,
   "id": "c88ecfc2-67b5-421e-a688-95c8beb49b6e",
   "metadata": {},
   "outputs": [
    {
     "name": "stdout",
     "output_type": "stream",
     "text": [
      "True\n",
      "False\n",
      "False\n",
      "False\n"
     ]
    }
   ],
   "source": [
    "#and\n",
    "print(True and True)\n",
    "print(True and False)\n",
    "print(False and True)\n",
    "print(False and False)"
   ]
  },
  {
   "cell_type": "code",
   "execution_count": null,
   "id": "fb38fdd5-e6c5-49dd-afc7-40c3f9457148",
   "metadata": {},
   "outputs": [],
   "source": [
    "#or\n",
    "print(True or True)\n",
    "print(True or False)\n",
    "print(False or True)\n",
    "print(False or False)"
   ]
  },
  {
   "cell_type": "code",
   "execution_count": null,
   "id": "d0e7bd6c-7548-41a9-9881-7e5ee83c896c",
   "metadata": {},
   "outputs": [],
   "source": [
    "# if per >80 or per ==80:\n",
    "#     grade = 'A'\n",
    "# elif per >60 or per == 60:\n",
    "#     grade = 'B'\n",
    "# elif per >45 or per == 45:\n",
    "#     grade = 'C'\n",
    "# else:\n",
    "#     grade = 'F'"
   ]
  },
  {
   "cell_type": "code",
   "execution_count": null,
   "id": "4c146697-25b1-4883-902a-1e512a1af695",
   "metadata": {},
   "outputs": [],
   "source": [
    "# if per >=80 and per <=100:\n",
    "#     grade = 'A'\n",
    "# elif per >=60 and per < 80:\n",
    "#     grade = 'B'\n",
    "# elif per >=45 and per == <60:\n",
    "#     grade = 'C'\n",
    "# else:\n",
    "#     grade = 'F'"
   ]
  },
  {
   "cell_type": "code",
   "execution_count": 31,
   "id": "c504c735-91a9-4ce1-95a6-fba6f1d94d50",
   "metadata": {},
   "outputs": [],
   "source": [
    "# WAP to create a basic claculator\n",
    "# a = ?\n",
    "# b = ?\n",
    "# o = ?   +-*/"
   ]
  },
  {
   "cell_type": "code",
   "execution_count": 37,
   "id": "b44d5deb-7cf1-4857-8090-ef288676ea3a",
   "metadata": {},
   "outputs": [
    {
     "name": "stdin",
     "output_type": "stream",
     "text": [
      "Enter a =  10\n",
      "Enter b =  0\n",
      "Enter + or - or * or /   /\n"
     ]
    },
    {
     "ename": "ZeroDivisionError",
     "evalue": "division by zero",
     "output_type": "error",
     "traceback": [
      "\u001b[1;31m---------------------------------------------------------------------------\u001b[0m",
      "\u001b[1;31mZeroDivisionError\u001b[0m                         Traceback (most recent call last)",
      "Cell \u001b[1;32mIn[37], line 11\u001b[0m\n\u001b[0;32m      9\u001b[0m     \u001b[38;5;28mprint\u001b[39m(a\u001b[38;5;241m*\u001b[39mb)\n\u001b[0;32m     10\u001b[0m \u001b[38;5;28;01melif\u001b[39;00m o \u001b[38;5;241m==\u001b[39m \u001b[38;5;124m\"\u001b[39m\u001b[38;5;124m/\u001b[39m\u001b[38;5;124m\"\u001b[39m:\n\u001b[1;32m---> 11\u001b[0m     \u001b[38;5;28mprint\u001b[39m(a\u001b[38;5;241m/\u001b[39mb)\n\u001b[0;32m     12\u001b[0m \u001b[38;5;28;01melse\u001b[39;00m:\n\u001b[0;32m     13\u001b[0m     \u001b[38;5;28mprint\u001b[39m(\u001b[38;5;124m\"\u001b[39m\u001b[38;5;124mInvalid operator\u001b[39m\u001b[38;5;124m\"\u001b[39m)\n",
      "\u001b[1;31mZeroDivisionError\u001b[0m: division by zero"
     ]
    }
   ],
   "source": [
    "a = int(input(\"Enter a = \"))\n",
    "b = int(input(\"Enter b = \"))\n",
    "o = input(\"Enter + or - or * or /  \")\n",
    "if o == \"+\":\n",
    "    print(a+b)\n",
    "elif o == \"-\":\n",
    "    print(a-b)\n",
    "elif o == \"*\":\n",
    "    print(a*b)\n",
    "elif o == \"/\":\n",
    "    print(a/b)\n",
    "else:\n",
    "    print(\"Invalid operator\")"
   ]
  },
  {
   "cell_type": "code",
   "execution_count": 39,
   "id": "e78732c6-b8b0-4e30-a5cf-83c73c61eb6e",
   "metadata": {},
   "outputs": [
    {
     "name": "stdin",
     "output_type": "stream",
     "text": [
      "Enter a =  10\n",
      "Enter b =  0\n",
      "Enter + or - or * or /   /\n"
     ]
    },
    {
     "name": "stdout",
     "output_type": "stream",
     "text": [
      "The value of b can not be zero!\n"
     ]
    }
   ],
   "source": [
    "a = int(input(\"Enter a = \"))\n",
    "b = int(input(\"Enter b = \"))\n",
    "o = input(\"Enter + or - or * or /  \")\n",
    "if o == \"+\":\n",
    "    print(a+b)\n",
    "elif o == \"-\":\n",
    "    print(a-b)\n",
    "elif o == \"*\":\n",
    "    print(a*b)\n",
    "elif o == \"/\" and b!=0:\n",
    "    print(a/b)\n",
    "elif o == \"/\" and b == 0:\n",
    "    print(\"The value of b can not be zero!\")\n",
    "else:\n",
    "    print(\"Invalid operator\")"
   ]
  },
  {
   "cell_type": "code",
   "execution_count": 41,
   "id": "78b15b19-b7b2-4dc9-8ccb-02f7ca6b9c65",
   "metadata": {},
   "outputs": [],
   "source": [
    "# nested if else"
   ]
  },
  {
   "cell_type": "code",
   "execution_count": null,
   "id": "38259757-a58d-459f-a559-bcbdac655a56",
   "metadata": {},
   "outputs": [],
   "source": [
    "# if <condition>:\n",
    "#     if <condition>:\n",
    "#         <operation>\n",
    "#     else:\n",
    "#         <operation>"
   ]
  },
  {
   "cell_type": "code",
   "execution_count": 43,
   "id": "3328a7d6-c96e-4ac0-a328-66c25bf279fd",
   "metadata": {},
   "outputs": [],
   "source": [
    "# a + or -   even or odd"
   ]
  },
  {
   "cell_type": "code",
   "execution_count": 49,
   "id": "fffbfbfc-b625-45c7-a41b-75a28ac6412f",
   "metadata": {},
   "outputs": [
    {
     "name": "stdin",
     "output_type": "stream",
     "text": [
      "Enter a =  -11\n"
     ]
    },
    {
     "name": "stdout",
     "output_type": "stream",
     "text": [
      "-11 is -ve and odd\n"
     ]
    }
   ],
   "source": [
    "a = int(input(\"Enter a = \"))\n",
    "if a>=0:\n",
    "    if a%2==0:\n",
    "        print(a,\"is +ve and even\")\n",
    "    else:\n",
    "        print(a,\"is +ve and odd\")\n",
    "else:\n",
    "    if a%2==0:\n",
    "        print(a,\"is -ve and even\")\n",
    "    else:\n",
    "        print(a,\"is -ve and odd\")"
   ]
  },
  {
   "cell_type": "code",
   "execution_count": null,
   "id": "df83b965-28ea-437b-8100-473c43809a7e",
   "metadata": {},
   "outputs": [],
   "source": []
  }
 ],
 "metadata": {
  "kernelspec": {
   "display_name": "Python 3 (ipykernel)",
   "language": "python",
   "name": "python3"
  },
  "language_info": {
   "codemirror_mode": {
    "name": "ipython",
    "version": 3
   },
   "file_extension": ".py",
   "mimetype": "text/x-python",
   "name": "python",
   "nbconvert_exporter": "python",
   "pygments_lexer": "ipython3",
   "version": "3.12.7"
  }
 },
 "nbformat": 4,
 "nbformat_minor": 5
}
