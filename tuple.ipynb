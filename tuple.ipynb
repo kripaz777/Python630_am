{
 "cells": [
  {
   "cell_type": "code",
   "execution_count": 1,
   "id": "f937b50a-cf0e-4ff1-ab80-c7150735bdf1",
   "metadata": {},
   "outputs": [],
   "source": [
    "# tuple\n",
    "# -Indexing same as list\n",
    "# -Ordered\n",
    "# -Multiple and duplicate data\n",
    "# -Imutable"
   ]
  },
  {
   "cell_type": "code",
   "execution_count": 3,
   "id": "2aca4ad7-b982-4e95-b7af-556ffa004664",
   "metadata": {},
   "outputs": [
    {
     "name": "stdout",
     "output_type": "stream",
     "text": [
      "<class 'tuple'>\n"
     ]
    }
   ],
   "source": [
    "a = tuple()\n",
    "print(type(a))"
   ]
  },
  {
   "cell_type": "code",
   "execution_count": 15,
   "id": "abdb20cf-e523-4521-a9a0-ef6755fe40ed",
   "metadata": {},
   "outputs": [
    {
     "name": "stdout",
     "output_type": "stream",
     "text": [
      "(1, 2, 3, 4, 5, 6)\n",
      "<class 'tuple'>\n"
     ]
    }
   ],
   "source": [
    "a = (1,2,3,4,5,6,)\n",
    "print(a)\n",
    "print(type(a))"
   ]
  },
  {
   "cell_type": "code",
   "execution_count": 17,
   "id": "4090e3fe-e855-404b-b0a9-b5a3fbee346f",
   "metadata": {},
   "outputs": [
    {
     "data": {
      "text/plain": [
       "tuple"
      ]
     },
     "execution_count": 17,
     "metadata": {},
     "output_type": "execute_result"
    }
   ],
   "source": [
    "a = (\"Apple\",)\n",
    "type(a)"
   ]
  },
  {
   "cell_type": "code",
   "execution_count": 25,
   "id": "ef254c5f-2a97-4fd7-b039-a7523ee2822f",
   "metadata": {},
   "outputs": [
    {
     "name": "stdout",
     "output_type": "stream",
     "text": [
      "Apple\n",
      "('Apple', 'Ball', 'Cat', 'Dog')\n"
     ]
    }
   ],
   "source": [
    "a = (\"Apple\",\"Ball\",\"Cat\",\"Dog\",\"Apple\")\n",
    "print(a[0])\n",
    "print(a[0:4])"
   ]
  },
  {
   "cell_type": "code",
   "execution_count": 27,
   "id": "76d91763-873f-403d-becb-451ae45de488",
   "metadata": {},
   "outputs": [],
   "source": [
    "# No append() insert() extend() \n",
    "# No Update\n",
    "# No delete\n",
    "# But we can Read"
   ]
  },
  {
   "cell_type": "code",
   "execution_count": 33,
   "id": "e4db0e65-9af5-4578-90c0-b9ffc89db7e6",
   "metadata": {},
   "outputs": [
    {
     "name": "stdout",
     "output_type": "stream",
     "text": [
      "(1, 2, 3, 4)\n"
     ]
    }
   ],
   "source": [
    "a = (1,2,3)\n",
    "b = (4,)\n",
    "c = a+b\n",
    "print(c)"
   ]
  },
  {
   "cell_type": "code",
   "execution_count": 35,
   "id": "d207383d-2f2e-4c79-9966-42cf4fcb4397",
   "metadata": {},
   "outputs": [
    {
     "name": "stdin",
     "output_type": "stream",
     "text": [
      "Enter n =  10\n",
      "Enter x =  324\n",
      "Enter x =  456\n",
      "Enter x =  768\n",
      "Enter x =  12\n",
      "Enter x =  43\n",
      "Enter x =  6\n",
      "Enter x =  78\n",
      "Enter x =  98\n",
      "Enter x =  34\n",
      "Enter x =  67\n"
     ]
    },
    {
     "data": {
      "text/plain": [
       "(324, 456, 768, 12, 43, 6, 78, 98, 34, 67)"
      ]
     },
     "execution_count": 35,
     "metadata": {},
     "output_type": "execute_result"
    }
   ],
   "source": [
    "t = tuple()\n",
    "n = int(input(\"Enter n = \"))\n",
    "for i in range(n):\n",
    "    x = int(input(\"Enter x = \"))\n",
    "    t = t + (x,)\n",
    "t"
   ]
  },
  {
   "cell_type": "code",
   "execution_count": 37,
   "id": "a628e5a0-4903-40e1-9597-7c2f90521881",
   "metadata": {},
   "outputs": [],
   "source": [
    "# in tuple we can\n",
    "# min() max() sum()"
   ]
  },
  {
   "cell_type": "code",
   "execution_count": 41,
   "id": "d0245d2b-be19-47e2-8fc8-01d86646b01b",
   "metadata": {},
   "outputs": [
    {
     "name": "stdout",
     "output_type": "stream",
     "text": [
      "Min value =  6\n",
      "Max value =  768\n",
      "Sum of all  value =  1886\n"
     ]
    }
   ],
   "source": [
    "print(\"Min value = \",min(t))\n",
    "print(\"Max value = \",max(t))\n",
    "print(\"Sum of all  value = \",sum(t))"
   ]
  },
  {
   "cell_type": "code",
   "execution_count": 43,
   "id": "505c1708-d7f0-48c3-a393-c01dc3dddbdb",
   "metadata": {},
   "outputs": [
    {
     "name": "stdout",
     "output_type": "stream",
     "text": [
      "(10, 11, 12, 13, 14, 15)\n"
     ]
    }
   ],
   "source": [
    "x = 10,11,12,13,14,15\n",
    "print(x)"
   ]
  },
  {
   "cell_type": "code",
   "execution_count": 45,
   "id": "68fcbd1b-fa2f-4e1e-ae17-a091577d411c",
   "metadata": {},
   "outputs": [
    {
     "data": {
      "text/plain": [
       "(('Ram', 9808778765), ('Shyam', 9845334523))"
      ]
     },
     "execution_count": 45,
     "metadata": {},
     "output_type": "execute_result"
    }
   ],
   "source": [
    "# tuple inside tuple\n",
    "info = (('Ram',9808778765),\n",
    "       ('Shyam',9845334523))\n",
    "info"
   ]
  },
  {
   "cell_type": "code",
   "execution_count": 47,
   "id": "78022a1d-561d-4680-a780-2acf3920f784",
   "metadata": {},
   "outputs": [
    {
     "data": {
      "text/plain": [
       "{'Ram': 9808778765, 'Shyam': 9845334523}"
      ]
     },
     "execution_count": 47,
     "metadata": {},
     "output_type": "execute_result"
    }
   ],
   "source": [
    "# tuple to dict\n",
    "dict(info)"
   ]
  },
  {
   "cell_type": "code",
   "execution_count": 49,
   "id": "0ac596c4-c38e-4c25-8d34-244f2293a26d",
   "metadata": {},
   "outputs": [
    {
     "data": {
      "text/plain": [
       "{'Ram': 9808778765, 'Shyam': 9845334523}"
      ]
     },
     "execution_count": 49,
     "metadata": {},
     "output_type": "execute_result"
    }
   ],
   "source": [
    "# list to dict\n",
    "l = [['Ram', 9808778765], ['Shyam', 9845334523]]\n",
    "dict(l)"
   ]
  },
  {
   "cell_type": "code",
   "execution_count": 55,
   "id": "df25c6f0-b22d-4f9b-8e64-cf73e2159d18",
   "metadata": {},
   "outputs": [
    {
     "data": {
      "text/plain": [
       "('Ram', 'Shyam')"
      ]
     },
     "execution_count": 55,
     "metadata": {},
     "output_type": "execute_result"
    }
   ],
   "source": [
    "a = (\"Ram\",\"Shyam\",\"Hari\")\n",
    "b = list(a)\n",
    "del b[2]\n",
    "a = tuple(b)\n",
    "a"
   ]
  },
  {
   "cell_type": "code",
   "execution_count": null,
   "id": "4a29c5d4-e0a8-4ec7-991a-7af71b250fb3",
   "metadata": {},
   "outputs": [],
   "source": []
  },
  {
   "cell_type": "code",
   "execution_count": null,
   "id": "38e44517-525f-4a6f-8c1c-6796eb6ad74c",
   "metadata": {},
   "outputs": [],
   "source": []
  }
 ],
 "metadata": {
  "kernelspec": {
   "display_name": "Python 3 (ipykernel)",
   "language": "python",
   "name": "python3"
  },
  "language_info": {
   "codemirror_mode": {
    "name": "ipython",
    "version": 3
   },
   "file_extension": ".py",
   "mimetype": "text/x-python",
   "name": "python",
   "nbconvert_exporter": "python",
   "pygments_lexer": "ipython3",
   "version": "3.12.7"
  }
 },
 "nbformat": 4,
 "nbformat_minor": 5
}
