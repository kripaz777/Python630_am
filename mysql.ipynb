{
 "cells": [
  {
   "cell_type": "code",
   "execution_count": 2,
   "id": "8105fa36-e89d-48b2-8a90-f82041c38c8f",
   "metadata": {},
   "outputs": [
    {
     "name": "stdout",
     "output_type": "stream",
     "text": [
      "Collecting mysql-connector\n",
      "  Using cached mysql_connector-2.2.9-cp312-cp312-win_amd64.whl\n",
      "Installing collected packages: mysql-connector\n",
      "Successfully installed mysql-connector-2.2.9\n"
     ]
    }
   ],
   "source": [
    "!pip install mysql-connector"
   ]
  },
  {
   "cell_type": "code",
   "execution_count": 24,
   "id": "8d0b3f7d-191f-4aac-a4ff-2c3360a9851c",
   "metadata": {},
   "outputs": [],
   "source": [
    "import mysql.connector\n",
    "#importing database\n",
    "database = mysql.connector.connect(\n",
    "host=\"localhost\",\n",
    "user=\"root\",\n",
    "password=\"\",\n",
    "\n",
    "database = \"python630\"\n",
    ")\n",
    "db = database.cursor()"
   ]
  },
  {
   "cell_type": "code",
   "execution_count": 6,
   "id": "5f2e7251-30c4-40da-8d3c-076ef1681c7e",
   "metadata": {},
   "outputs": [
    {
     "name": "stdout",
     "output_type": "stream",
     "text": [
      "(1, 'Ram', 89, 87, 79, 70, 77, 420, 80.0, 'A')\n",
      "(2, 'Shyam', 89, 87, 79, 70, 77, 420, 80.0, 'A')\n"
     ]
    }
   ],
   "source": [
    "db.execute(\"SELECT * FROM student\")\n",
    "result = db.fetchall()\n",
    "for x in result:\n",
    "    print(x)"
   ]
  },
  {
   "cell_type": "code",
   "execution_count": 8,
   "id": "2b560598-1e09-4849-b225-a8fea30ac17b",
   "metadata": {},
   "outputs": [
    {
     "name": "stdout",
     "output_type": "stream",
     "text": [
      "1 record inserted.\n"
     ]
    }
   ],
   "source": [
    "#insert data into table\n",
    "sql = ''' INSERT INTO student (sn, name, physics, chemistry, math, english, nepali, total, per, grade)\n",
    "VALUES (24, 'Ram', 78, 77, 99, 88, 87, 400, 78, 'B');'''\n",
    "db.execute(sql)\n",
    "database.commit()\n",
    "print(db.rowcount, \"record inserted.\")"
   ]
  },
  {
   "cell_type": "code",
   "execution_count": 12,
   "id": "642d0721-321c-47c6-aa33-773c45f86e26",
   "metadata": {},
   "outputs": [
    {
     "name": "stdin",
     "output_type": "stream",
     "text": [
      "Enter name =  Nabin\n",
      "Enter physics marks=  78\n",
      "Enter chemistry marks=  90\n",
      "Enter math marks=  87\n",
      "Enter english marks=  90\n",
      "Enter nepali marks=  78\n"
     ]
    },
    {
     "name": "stdout",
     "output_type": "stream",
     "text": [
      " INSERT INTO student (name, physics, chemistry, math, english, nepali, total, per, grade)\n",
      "        VALUES ('Nabin', 78, 90, 87, 90, 78, 423, 84.6, 'A')\n",
      "1 record inserted.\n"
     ]
    }
   ],
   "source": [
    "name = input(\"Enter name = \")\n",
    "physics = int(input(\"Enter physics marks= \"))\n",
    "chemistry = int(input(\"Enter chemistry marks= \"))\n",
    "math = int(input(\"Enter math marks= \"))\n",
    "english = int(input(\"Enter english marks= \"))\n",
    "nepali = int(input(\"Enter nepali marks= \"))\n",
    "\n",
    "total = physics + chemistry + math + english + nepali\n",
    "per = total/5\n",
    "\n",
    "if per >= 80:\n",
    "    grade = \"A\"\n",
    "elif per >= 60:\n",
    "    grade = \"B\"\n",
    "elif per >= 45:\n",
    "    grade = \"C\"\n",
    "else:\n",
    "    grade = \"F\"\n",
    "    \n",
    "\n",
    "#insert data into table\n",
    "sql = f''' INSERT INTO student (name, physics, chemistry, math, english, nepali, total, per, grade)\n",
    "        VALUES ('{name}', {physics}, {chemistry}, {math}, {english}, {nepali}, {total}, {per}, '{grade}')'''\n",
    "db.execute(sql)\n",
    "print(sql)\n",
    "database.commit()\n",
    "print(db.rowcount, \"record inserted.\")"
   ]
  },
  {
   "cell_type": "code",
   "execution_count": 14,
   "id": "869932be-18fc-4405-a0b6-45c91f7452d7",
   "metadata": {},
   "outputs": [
    {
     "name": "stdout",
     "output_type": "stream",
     "text": [
      "1 record(s) affected\n"
     ]
    }
   ],
   "source": [
    "# Update in sql\n",
    "sql = \"UPDATE student SET name = 'Rama' WHERE sn = 2\"\n",
    "db.execute(sql)\n",
    "database.commit()\n",
    "print(db.rowcount, \"record(s) affected\")\n"
   ]
  },
  {
   "cell_type": "code",
   "execution_count": 22,
   "id": "556a2669-a830-4b2a-8e5c-024c9e4aea04",
   "metadata": {},
   "outputs": [
    {
     "name": "stdout",
     "output_type": "stream",
     "text": [
      "1 record(s) affected\n"
     ]
    }
   ],
   "source": [
    "# Update in sql\n",
    "sql = \"UPDATE student SET name = 'Rama' , grade = 'B' WHERE sn = 2\"\n",
    "db.execute(sql)\n",
    "database.commit()\n",
    "print(db.rowcount, \"record(s) affected\")\n"
   ]
  },
  {
   "cell_type": "code",
   "execution_count": null,
   "id": "e7af461b-b72f-43dd-880e-dafb66950ab9",
   "metadata": {},
   "outputs": [],
   "source": [
    "# Select \n",
    "db.execute(\"SELECT * FROM student WHERE grade = 'A'\")\n",
    "result =db.fetchall()\n",
    "for x in result:\n",
    "    print(x)"
   ]
  },
  {
   "cell_type": "code",
   "execution_count": 26,
   "id": "12aa5418-79ce-4d18-bb85-13fbac78c2c7",
   "metadata": {},
   "outputs": [
    {
     "name": "stdout",
     "output_type": "stream",
     "text": [
      "('Ram', 420, 'A')\n",
      "('Akash', 443, 'A')\n",
      "('Nabin', 423, 'A')\n"
     ]
    }
   ],
   "source": [
    "# Select \n",
    "db.execute(\"SELECT name,total,grade FROM student WHERE grade = 'A'\")\n",
    "result =db.fetchall()\n",
    "for x in result:\n",
    "    print(x)"
   ]
  },
  {
   "cell_type": "code",
   "execution_count": 28,
   "id": "23e8134d-d870-4113-9f48-615d0b9f669d",
   "metadata": {},
   "outputs": [
    {
     "name": "stdout",
     "output_type": "stream",
     "text": [
      "(1, 'Ram', 89, 87, 79, 70, 77, 420, 80.0, 'A')\n",
      "(2, 'Rama', 89, 87, 79, 70, 77, 420, 80.0, 'B')\n",
      "(25, 'Akash', 89, 90, 87, 90, 87, 443, 88.6, 'A')\n"
     ]
    }
   ],
   "source": [
    "# Select \n",
    "db.execute(\"SELECT * FROM student WHERE physics > 80\")\n",
    "result =db.fetchall()\n",
    "for x in result:\n",
    "    print(x)"
   ]
  },
  {
   "cell_type": "code",
   "execution_count": 34,
   "id": "a8fd9388-46db-4f3e-8591-6a7416ba8bd5",
   "metadata": {},
   "outputs": [],
   "source": [
    "database.commit()"
   ]
  },
  {
   "cell_type": "code",
   "execution_count": 36,
   "id": "01292975-ed35-4348-bf30-415dd13ac6e1",
   "metadata": {},
   "outputs": [
    {
     "name": "stdout",
     "output_type": "stream",
     "text": [
      "(1, 'Balaram', 89, 87, 79, 70, 77, 420, 80.0, 'A')\n",
      "(2, 'Rama', 89, 87, 79, 70, 77, 420, 80.0, 'B')\n",
      "(24, 'Ram', 78, 77, 99, 88, 87, 400, 78.0, 'B')\n"
     ]
    }
   ],
   "source": [
    "# search\n",
    "db.execute(\"SELECT * FROM student WHERE name LIKE '%ram%'\")\n",
    "result =db.fetchall()\n",
    "for x in result:\n",
    "    print(x)"
   ]
  },
  {
   "cell_type": "code",
   "execution_count": 42,
   "id": "6f128bec-68f6-4985-90f0-695675d964e2",
   "metadata": {},
   "outputs": [
    {
     "name": "stdout",
     "output_type": "stream",
     "text": [
      "(1, 'Balaram', 89, 87, 79, 70, 77, 420, 80.0, 'A')\n",
      "(2, 'Rama', 89, 87, 79, 70, 77, 420, 80.0, 'B')\n",
      "(25, 'Akash', 89, 90, 87, 90, 87, 443, 88.6, 'A')\n"
     ]
    }
   ],
   "source": [
    "# Select \n",
    "db.execute(\"SELECT * FROM student WHERE physics > 80 or chemistry=80\")\n",
    "result =db.fetchall()\n",
    "for x in result:\n",
    "    print(x)"
   ]
  },
  {
   "cell_type": "code",
   "execution_count": 44,
   "id": "e535da8d-edc6-43e1-850b-6e0308f4b929",
   "metadata": {},
   "outputs": [
    {
     "name": "stdout",
     "output_type": "stream",
     "text": [
      "('Balaram', 420, 80.0, 'A')\n",
      "('Rama', 420, 80.0, 'B')\n",
      "('Ram', 400, 78.0, 'B')\n",
      "('Akash', 443, 88.6, 'A')\n",
      "('Nabin', 423, 84.6, 'A')\n"
     ]
    }
   ],
   "source": [
    "# Select \n",
    "db.execute(\"SELECT name,total,per,grade FROM student\")\n",
    "result =db.fetchall()\n",
    "for x in result:\n",
    "    print(x)"
   ]
  },
  {
   "cell_type": "code",
   "execution_count": 48,
   "id": "d664c735-4ca4-43b4-9716-cf06c5fe3969",
   "metadata": {},
   "outputs": [
    {
     "name": "stdout",
     "output_type": "stream",
     "text": [
      "(25, 'Akash', 89, 90, 87, 90, 87, 443, 88.6, 'A')\n",
      "(26, 'Nabin', 78, 90, 87, 90, 78, 423, 84.6, 'A')\n"
     ]
    }
   ],
   "source": [
    "# Select \n",
    "db.execute(\"SELECT * FROM student ORDER BY total DESC LIMIT 2\")\n",
    "result =db.fetchall()\n",
    "for x in result:\n",
    "    print(x)"
   ]
  },
  {
   "cell_type": "code",
   "execution_count": 54,
   "id": "c9942be2-b6bf-4508-bbf1-4a298aa6e351",
   "metadata": {},
   "outputs": [
    {
     "name": "stdin",
     "output_type": "stream",
     "text": [
      "Enter name =  Anish\n",
      "Enter sn =  25\n"
     ]
    },
    {
     "name": "stdout",
     "output_type": "stream",
     "text": [
      "1 record(s) affected\n"
     ]
    }
   ],
   "source": [
    "# Update in sql\n",
    "name = input(\"Enter name = \")\n",
    "sn = int(input(\"Enter sn = \"))\n",
    "\n",
    "sql = f\"UPDATE student SET name = '{name}' WHERE sn = {sn}\"\n",
    "db.execute(sql)\n",
    "database.commit()\n",
    "print(db.rowcount, \"record(s) affected\")"
   ]
  },
  {
   "cell_type": "code",
   "execution_count": 56,
   "id": "9af33f61-69fe-4eaa-96c1-5fc87d88e267",
   "metadata": {},
   "outputs": [
    {
     "name": "stdin",
     "output_type": "stream",
     "text": [
      "Enter name =  Ram\n"
     ]
    },
    {
     "name": "stdout",
     "output_type": "stream",
     "text": [
      "(1, 'Balaram', 89, 87, 79, 70, 77, 420, 80.0, 'A')\n",
      "(2, 'Rama', 89, 87, 79, 70, 77, 420, 80.0, 'B')\n",
      "(24, 'Ram', 78, 77, 99, 88, 87, 400, 78.0, 'B')\n"
     ]
    }
   ],
   "source": [
    "# search\n",
    "name = input(\"Enter name = \")\n",
    "db.execute(f\"SELECT * FROM student WHERE name LIKE '%{name}%'\")\n",
    "result =db.fetchall()\n",
    "for x in result:\n",
    "    print(x)"
   ]
  },
  {
   "cell_type": "code",
   "execution_count": null,
   "id": "f1e2e589-2efd-4e80-aae3-81869d30b18c",
   "metadata": {},
   "outputs": [],
   "source": []
  }
 ],
 "metadata": {
  "kernelspec": {
   "display_name": "Python 3 (ipykernel)",
   "language": "python",
   "name": "python3"
  },
  "language_info": {
   "codemirror_mode": {
    "name": "ipython",
    "version": 3
   },
   "file_extension": ".py",
   "mimetype": "text/x-python",
   "name": "python",
   "nbconvert_exporter": "python",
   "pygments_lexer": "ipython3",
   "version": "3.12.7"
  }
 },
 "nbformat": 4,
 "nbformat_minor": 5
}
