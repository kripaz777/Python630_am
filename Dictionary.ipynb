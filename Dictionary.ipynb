{
 "cells": [
  {
   "cell_type": "code",
   "execution_count": 1,
   "id": "19bde557-260f-435f-a0a0-d072180458b1",
   "metadata": {},
   "outputs": [],
   "source": [
    "#Dict\n",
    "#-indexing\n",
    "#-Orderd\n",
    "#-Multiple and Duplicate Data\n",
    "#-Mutable"
   ]
  },
  {
   "cell_type": "code",
   "execution_count": null,
   "id": "290bd58b-df88-4ce5-b200-b4b77b2076cd",
   "metadata": {},
   "outputs": [],
   "source": [
    "# d = {<key>:<value>,<key>:<value>,....}"
   ]
  },
  {
   "cell_type": "code",
   "execution_count": 3,
   "id": "b532b9eb-ec82-42ba-bfde-aee695b9ec13",
   "metadata": {},
   "outputs": [
    {
     "name": "stdout",
     "output_type": "stream",
     "text": [
      "<class 'dict'>\n"
     ]
    }
   ],
   "source": [
    "d = {'a':'Apple','b':'Ball'}\n",
    "print(type(d))"
   ]
  },
  {
   "cell_type": "code",
   "execution_count": 13,
   "id": "9fb24974-a35e-4c9c-ad3f-ac6a29778d83",
   "metadata": {},
   "outputs": [
    {
     "name": "stdout",
     "output_type": "stream",
     "text": [
      "3\n",
      "{'name': 'Ram', 'age': 34, 'add': 'Kathmandu'}\n"
     ]
    }
   ],
   "source": [
    "d = {'name':'Ram','age':34,'add':\"Kathmandu\"}\n",
    "print(len(d))\n",
    "print(d)"
   ]
  },
  {
   "cell_type": "code",
   "execution_count": 11,
   "id": "6ca07fd7-69af-4529-a9e8-4d6374956101",
   "metadata": {},
   "outputs": [
    {
     "name": "stdout",
     "output_type": "stream",
     "text": [
      "Ram\n",
      "34\n",
      "Kathmandu\n"
     ]
    }
   ],
   "source": [
    "print(d['name'])\n",
    "print(d['age'])\n",
    "print(d['add'])"
   ]
  },
  {
   "cell_type": "code",
   "execution_count": null,
   "id": "3ce8e2e3-4d46-4bad-8b93-c62277d10851",
   "metadata": {},
   "outputs": [],
   "source": [
    "# CRUD"
   ]
  },
  {
   "cell_type": "code",
   "execution_count": 23,
   "id": "d83297ca-5d4c-4ab6-b0a2-2d19844aed09",
   "metadata": {},
   "outputs": [
    {
     "name": "stdout",
     "output_type": "stream",
     "text": [
      "dict_values(['Ram', 34, 'Kathmandu'])\n",
      "dict_keys(['name', 'age', 'add'])\n",
      "dict_items([('name', 'Ram'), ('age', 34), ('add', 'Kathmandu')])\n"
     ]
    }
   ],
   "source": [
    "#Read\n",
    "d = {'name':'Ram','age':34,'add':\"Kathmandu\"}\n",
    "print(d.values())\n",
    "print(d.keys())\n",
    "print(d.items())"
   ]
  },
  {
   "cell_type": "code",
   "execution_count": 19,
   "id": "90ce7d1b-7b7a-411c-8d7a-de4adfed281b",
   "metadata": {},
   "outputs": [
    {
     "name": "stdout",
     "output_type": "stream",
     "text": [
      "name\n",
      "age\n",
      "add\n"
     ]
    }
   ],
   "source": [
    "d = {'name':'Ram','age':34,'add':\"Kathmandu\"}\n",
    "for i in d:\n",
    "    print(i)"
   ]
  },
  {
   "cell_type": "code",
   "execution_count": 21,
   "id": "df3a33c0-70f1-427a-948e-ba0168155e1d",
   "metadata": {},
   "outputs": [
    {
     "name": "stdout",
     "output_type": "stream",
     "text": [
      "Ram\n",
      "34\n",
      "Kathmandu\n"
     ]
    }
   ],
   "source": [
    "d = {'name':'Ram','age':34,'add':\"Kathmandu\"}\n",
    "for i in d.values():\n",
    "    print(i)"
   ]
  },
  {
   "cell_type": "code",
   "execution_count": 29,
   "id": "2e51b654-14b0-4b74-af95-5de278ec7f55",
   "metadata": {},
   "outputs": [
    {
     "data": {
      "text/plain": [
       "{'name': 'Jhapa', 'age': 34}"
      ]
     },
     "execution_count": 29,
     "metadata": {},
     "output_type": "execute_result"
    }
   ],
   "source": [
    "# Create\n",
    "d = {'name':'Jhapa','age':34,'name':\"Jhapa\"}\n",
    "d"
   ]
  },
  {
   "cell_type": "code",
   "execution_count": 33,
   "id": "14f5fe5f-f67b-4cab-b21e-5a2122e09318",
   "metadata": {},
   "outputs": [
    {
     "name": "stdout",
     "output_type": "stream",
     "text": [
      "{'Ram': 9867667654, 'Shyam': 9808556543, 'Hari': 98087787543}\n"
     ]
    }
   ],
   "source": [
    "d = {}\n",
    "d['Ram'] = 9867667654\n",
    "d['Shyam'] = 9808556543\n",
    "d['Hari'] = 98087787543\n",
    "print(d)"
   ]
  },
  {
   "cell_type": "code",
   "execution_count": 35,
   "id": "b5a50c6b-5934-44cd-88cc-8ec1f65f9d67",
   "metadata": {},
   "outputs": [],
   "source": [
    "# in Dict there is no + *"
   ]
  },
  {
   "cell_type": "code",
   "execution_count": 37,
   "id": "ef96e91c-84b8-4a1a-b6ac-e7e089b4fd5c",
   "metadata": {},
   "outputs": [
    {
     "name": "stdout",
     "output_type": "stream",
     "text": [
      "{1: 1, 2: 4, 3: 9, 4: 16, 5: 25, 6: 36, 7: 49}\n"
     ]
    }
   ],
   "source": [
    "a = {1:1, 2:4, 3:9, 4:16}\n",
    "b = {5:25, 6:36, 7:49}\n",
    "a.update(b)\n",
    "print(a)"
   ]
  },
  {
   "cell_type": "code",
   "execution_count": 39,
   "id": "ee4bf5c5-0642-4bc1-a1e7-fc55a0cfd32e",
   "metadata": {},
   "outputs": [
    {
     "name": "stdin",
     "output_type": "stream",
     "text": [
      "Enter n =  2\n",
      "Enter name =  Ram\n",
      "Enter phone =  9808778765\n",
      "Enter name =  Shyam\n",
      "Enter phone =  9808778765\n"
     ]
    },
    {
     "name": "stdout",
     "output_type": "stream",
     "text": [
      "{'Ram': '9808778765', 'Shyam': '9808778765'}\n"
     ]
    }
   ],
   "source": [
    "d = {}\n",
    "n = int(input(\"Enter n = \"))\n",
    "for i in range(n):\n",
    "    name = input(\"Enter name = \")\n",
    "    phone = input(\"Enter phone = \")\n",
    "    d[name] = phone\n",
    "\n",
    "print(d)"
   ]
  },
  {
   "cell_type": "code",
   "execution_count": 43,
   "id": "a79220d6-c79c-44e9-9166-79025af202a1",
   "metadata": {},
   "outputs": [
    {
     "data": {
      "text/plain": [
       "{'Ram': '9808000000', 'Shyam': '9808778765'}"
      ]
     },
     "execution_count": 43,
     "metadata": {},
     "output_type": "execute_result"
    }
   ],
   "source": [
    "#update\n",
    "a = {'Ram': '9808778765', 'Shyam': '9808778765'}\n",
    "a['Ram'] = '9808000000'\n",
    "a"
   ]
  },
  {
   "cell_type": "code",
   "execution_count": 45,
   "id": "b78e718c-dbd0-485c-88ad-18b35b26ac67",
   "metadata": {},
   "outputs": [
    {
     "data": {
      "text/plain": [
       "{'Ram': '9808778765', 'Shyam': '9808778765', 'Rama': '9808000000'}"
      ]
     },
     "execution_count": 45,
     "metadata": {},
     "output_type": "execute_result"
    }
   ],
   "source": [
    "#insert\n",
    "a = {'Ram': '9808778765', 'Shyam': '9808778765'}\n",
    "a['Rama'] = '9808000000'\n",
    "a"
   ]
  },
  {
   "cell_type": "code",
   "execution_count": 47,
   "id": "91092d46-6a7c-4bfa-b5fa-b53c353cbf09",
   "metadata": {},
   "outputs": [],
   "source": [
    "# delete\n",
    "# del pop()"
   ]
  },
  {
   "cell_type": "code",
   "execution_count": 51,
   "id": "14cff7a1-afe1-4371-bedb-f511f16728a6",
   "metadata": {},
   "outputs": [
    {
     "name": "stdout",
     "output_type": "stream",
     "text": [
      "{'Shyam': '9808778765', 'Rama': '9808000000'}\n"
     ]
    }
   ],
   "source": [
    "a = {'Ram': '9808778765', 'Shyam': '9808778765', 'Rama': '9808000000'}\n",
    "del a['Ram']\n",
    "print(a)"
   ]
  },
  {
   "cell_type": "code",
   "execution_count": 55,
   "id": "11a0f7b1-b6bd-4355-bad6-b9fdac08c52c",
   "metadata": {},
   "outputs": [
    {
     "name": "stdout",
     "output_type": "stream",
     "text": [
      "{'Shyam': '9808778765', 'Rama': '9808000000'}\n",
      "9808778765\n"
     ]
    }
   ],
   "source": [
    "a = {'Ram': '9808778765', 'Shyam': '9808778765', 'Rama': '9808000000'}\n",
    "b = a.pop('Ram')\n",
    "print(a)\n",
    "print(b)"
   ]
  },
  {
   "cell_type": "code",
   "execution_count": 60,
   "id": "e4e18c6e-d0c4-4180-a769-2350a94b3d6c",
   "metadata": {},
   "outputs": [],
   "source": [
    "# a = {'Ram': '9808778765', 'Shyam': '9808778765', 'Rama': '9808000000','Ram':'98456676654'}\n"
   ]
  },
  {
   "cell_type": "code",
   "execution_count": 62,
   "id": "502c41f0-ba07-4ddd-9189-ba1b49de5504",
   "metadata": {},
   "outputs": [],
   "source": [
    "# list inside dict\n",
    "# a = {'Ram':[9845665765,9808778765],\n",
    "#     'Shyam':[9867778765,9808667654],\n",
    "#     'Hari':[9867889876,9808778765]}\n"
   ]
  },
  {
   "cell_type": "code",
   "execution_count": null,
   "id": "c724b771-f86f-4c87-b249-6a3a02b09057",
   "metadata": {},
   "outputs": [],
   "source": [
    "# a = {'name':['Ram','Shyam','Hari'],\n",
    "#      'age':[34,45,23],\n",
    "#      'add':[\"Kathmandu\",\"Bhaktapur\",\"Lalitpur\"]}\n"
   ]
  },
  {
   "cell_type": "code",
   "execution_count": 64,
   "id": "c2e8ec07-e293-415b-bf50-5dec59b6de51",
   "metadata": {},
   "outputs": [
    {
     "name": "stdin",
     "output_type": "stream",
     "text": [
      "Enter no of rows =  2\n",
      "Enter name =  Ram\n",
      "Enter ntc phone no =  9867887654\n",
      "Enter ncell phone no =  9808778765\n",
      "Enter name =  Shyam\n",
      "Enter ntc phone no =  9867889876\n",
      "Enter ncell phone no =  9808778765\n"
     ]
    },
    {
     "name": "stdout",
     "output_type": "stream",
     "text": [
      "{'Ram': ['9867887654', '9808778765'], 'Shyam': ['9867889876', '9808778765']}\n"
     ]
    }
   ],
   "source": [
    "# a = {'Ram':[9845665765,9808778765],\n",
    "#     'Shyam':[9867778765,9808667654],\n",
    "#     'Hari':[9867889876,9808778765]}\n",
    "a = {}\n",
    "n = int(input(\"Enter no of rows = \"))\n",
    "for i in range(n):\n",
    "    name = input(\"Enter name = \")\n",
    "    ntc = input(\"Enter ntc phone no = \")\n",
    "    ncell = input(\"Enter ncell phone no = \")\n",
    "    a[name] = [ntc,ncell]\n",
    "    \n",
    "print(a)"
   ]
  },
  {
   "cell_type": "code",
   "execution_count": 68,
   "id": "128b8e8c-8a2a-4a86-862b-051876262302",
   "metadata": {},
   "outputs": [
    {
     "name": "stdin",
     "output_type": "stream",
     "text": [
      "Enter no of rows =  2\n",
      "Enter name =  Ram\n",
      "Enter ntc phone no =  9867667654\n",
      "Enter ncell phone no =  9808778765\n",
      "Enter name =  Shyam\n",
      "Enter ntc phone no =  9878776543\n",
      "Enter ncell phone no =  980876654\n"
     ]
    },
    {
     "name": "stdout",
     "output_type": "stream",
     "text": [
      "{'name': ['Ram', 'Shyam'], 'ntc': ['9867667654', '9878776543'], 'ncell': ['9808778765', '980876654']}\n"
     ]
    }
   ],
   "source": [
    "# a = {'name':['Ram','Shyam','Hari'],\n",
    "#      'ncell':[9808778765,980878765,9808667654],\n",
    "#      'ntc':[9867887654,9865667643,9856445432]}\n",
    "a = {\"name\":[],\n",
    "     \"ntc\":[],\n",
    "     \"ncell\":[]}\n",
    "n = int(input(\"Enter no of rows = \"))\n",
    "for i in range(n):\n",
    "    name = input(\"Enter name = \")\n",
    "    ntc = input(\"Enter ntc phone no = \")\n",
    "    ncell = input(\"Enter ncell phone no = \")\n",
    "    a[\"name\"].append(name)\n",
    "    a[\"ntc\"].append(ntc)\n",
    "    a[\"ncell\"].append(ncell)\n",
    "    \n",
    "print(a)"
   ]
  },
  {
   "cell_type": "code",
   "execution_count": 15,
   "id": "622cdd33-0ccc-489c-8d70-605e3b1ce1e3",
   "metadata": {},
   "outputs": [
    {
     "name": "stdout",
     "output_type": "stream",
     "text": [
      "['9867887654', '9808778765']\n"
     ]
    }
   ],
   "source": [
    "#indexing\n",
    "a = {'Ram': ['9867887654', '9808778765'], 'Shyam': ['9867889876', '9808778765']}\n",
    "print(a['Ram'])"
   ]
  },
  {
   "cell_type": "code",
   "execution_count": 9,
   "id": "9117c594-662e-4809-a188-5789c2dc0785",
   "metadata": {},
   "outputs": [
    {
     "data": {
      "text/plain": [
       "{'Ram': ['9840000000', '9808778765'], 'Shyam': ['9867889876', '9808778765']}"
      ]
     },
     "execution_count": 9,
     "metadata": {},
     "output_type": "execute_result"
    }
   ],
   "source": [
    "#update\n",
    "a['Ram'][0] = '9840000000'\n",
    "a"
   ]
  },
  {
   "cell_type": "code",
   "execution_count": 21,
   "id": "f58c9cce-8466-49fc-b1f5-d474cc250522",
   "metadata": {},
   "outputs": [
    {
     "name": "stdout",
     "output_type": "stream",
     "text": [
      "Ram\n",
      "9867667654\n",
      "9808778765\n"
     ]
    }
   ],
   "source": [
    "a = {'name': ['Ram', 'Shyam'], 'ntc': ['9867667654', '9878776543'], 'ncell': ['9808778765', '980876654']}\n",
    "print(a['name'][0])\n",
    "print(a['ntc'][0])\n",
    "print(a['ncell'][0])"
   ]
  },
  {
   "cell_type": "code",
   "execution_count": 27,
   "id": "abeac674-5a95-4c5e-8131-b3dcf0bf3a0b",
   "metadata": {},
   "outputs": [
    {
     "data": {
      "text/plain": [
       "{'name': ['Ram', 'Shyam'],\n",
       " 'ntc': ['9867667654', '9878776543'],\n",
       " 'ncell': [9808000000, '980876654']}"
      ]
     },
     "execution_count": 27,
     "metadata": {},
     "output_type": "execute_result"
    }
   ],
   "source": [
    "#update\n",
    "a['ncell'][0] = 9808000000\n",
    "a"
   ]
  },
  {
   "cell_type": "code",
   "execution_count": 31,
   "id": "762d8b29-9d1d-485e-9ed1-8f16b1d9eaca",
   "metadata": {},
   "outputs": [
    {
     "data": {
      "text/plain": [
       "[{'name': 'Ram', 'ntc': 9845667654, 'ncell': 9808000000},\n",
       " {'name': 'Shyam', 'ntc': 9845667653, 'ncell': 9808000001},\n",
       " {'name': 'Hari', 'ntc': 9845667655, 'ncell': 9808000002}]"
      ]
     },
     "execution_count": 31,
     "metadata": {},
     "output_type": "execute_result"
    }
   ],
   "source": [
    "# dict inside list\n",
    "l = [{'name':'Ram','ntc':9845667654,'ncell':9808000000},\n",
    "    {'name':'Shyam','ntc':9845667653,'ncell':9808000001},\n",
    "    {'name':'Hari','ntc':9845667655,'ncell':9808000002}]\n",
    "l"
   ]
  },
  {
   "cell_type": "code",
   "execution_count": 3,
   "id": "f0163ed5-7e5f-47ba-aaa3-6927b79dddc4",
   "metadata": {},
   "outputs": [
    {
     "name": "stdin",
     "output_type": "stream",
     "text": [
      "Enter no of rows =  2\n",
      "Enter name =  Ram\n",
      "Enter ntc phone no =  9845776123\n",
      "Enter ncell phone no =  9808778765\n",
      "Enter name =  Shyam\n",
      "Enter ntc phone no =  9845667654\n",
      "Enter ncell phone no =  9808778765\n"
     ]
    },
    {
     "name": "stdout",
     "output_type": "stream",
     "text": [
      "[{'name': 'Ram', 'ntc': '9845776123', 'ncell': '9808778765'}, {'name': 'Shyam', 'ntc': '9845667654', 'ncell': '9808778765'}]\n"
     ]
    }
   ],
   "source": [
    "l = []\n",
    "n = int(input(\"Enter no of rows = \"))\n",
    "for i in range(n):\n",
    "    name = input(\"Enter name = \")\n",
    "    ntc = input(\"Enter ntc phone no = \")\n",
    "    ncell = input(\"Enter ncell phone no = \")\n",
    "    x = {'name': name, 'ntc': ntc, 'ncell': ncell}\n",
    "    l.append(x)\n",
    "    \n",
    "print(l)"
   ]
  },
  {
   "cell_type": "code",
   "execution_count": 13,
   "id": "4900be7e-8a29-4f49-be45-13d3106e7999",
   "metadata": {},
   "outputs": [
    {
     "name": "stdout",
     "output_type": "stream",
     "text": [
      "{'name': 'Shyam', 'ntc': '9845667654', 'ncell': '9808778765'}\n",
      "9845776123\n"
     ]
    }
   ],
   "source": [
    "l = [{'name': 'Ram', 'ntc': '9845776123', 'ncell': '9808778765'}, \n",
    "     {'name': 'Shyam', 'ntc': '9845667654', 'ncell': '9808778765'}]\n",
    "print(l[1])\n",
    "print(l[0]['ntc'])"
   ]
  },
  {
   "cell_type": "code",
   "execution_count": 15,
   "id": "484a8651-cde8-453e-b251-bcdb8571f5b7",
   "metadata": {},
   "outputs": [
    {
     "data": {
      "text/plain": [
       "[{'name': 'Ram', 'ntc': '9841000000', 'ncell': '9808778765'},\n",
       " {'name': 'Shyam', 'ntc': '9845667654', 'ncell': '9808778765'}]"
      ]
     },
     "execution_count": 15,
     "metadata": {},
     "output_type": "execute_result"
    }
   ],
   "source": [
    "l[0]['ntc'] = '9841000000'\n",
    "l"
   ]
  },
  {
   "cell_type": "code",
   "execution_count": 17,
   "id": "2e8f2f9b-3bc0-48e8-86f1-5195b93f2203",
   "metadata": {},
   "outputs": [
    {
     "data": {
      "text/plain": [
       "{1: {'name': 'Ram', 'ntc': '9841000000', 'ncell': '9808778765'},\n",
       " 2: {'name': 'Shyam', 'ntc': '9845667654', 'ncell': '9808778765'}}"
      ]
     },
     "execution_count": 17,
     "metadata": {},
     "output_type": "execute_result"
    }
   ],
   "source": [
    "# dict inside dict\n",
    "d = {1:{'name': 'Ram', 'ntc': '9841000000', 'ncell': '9808778765'},\n",
    "     2:{'name': 'Shyam', 'ntc': '9845667654', 'ncell': '9808778765'}}"
   ]
  },
  {
   "cell_type": "code",
   "execution_count": 19,
   "id": "84a692ac-9f6e-4de0-a8df-a6a8bcb64f82",
   "metadata": {},
   "outputs": [
    {
     "name": "stdin",
     "output_type": "stream",
     "text": [
      "Enter no of rows =  2\n",
      "Enter name =  Ram\n",
      "Enter ntc phone no =  9845667654\n",
      "Enter ncell phone no =  9808778765\n",
      "Enter name =  Shyam\n",
      "Enter ntc phone no =  9845990612\n",
      "Enter ncell phone no =  9808667612\n"
     ]
    },
    {
     "name": "stdout",
     "output_type": "stream",
     "text": [
      "{1: {'name': 'Ram', 'ntc': '9845667654', 'ncell': '9808778765'}, 2: {'name': 'Shyam', 'ntc': '9845990612', 'ncell': '9808667612'}}\n"
     ]
    }
   ],
   "source": [
    "l = {}\n",
    "n = int(input(\"Enter no of rows = \"))\n",
    "for i in range(1,n+1):\n",
    "    name = input(\"Enter name = \")\n",
    "    ntc = input(\"Enter ntc phone no = \")\n",
    "    ncell = input(\"Enter ncell phone no = \")\n",
    "    x = {'name': name, 'ntc': ntc, 'ncell': ncell}\n",
    "    l[i] = x\n",
    "    \n",
    "print(l)"
   ]
  },
  {
   "cell_type": "code",
   "execution_count": 29,
   "id": "fb5c142c-6087-4db5-a59d-4698ac255602",
   "metadata": {},
   "outputs": [
    {
     "data": {
      "text/plain": [
       "{1: {'name': 'Ram', 'ntc': '9845667654', 'ncell': '9808778765'},\n",
       " 2: {'name': 'Shyam', 'ntc': '9845990612', 'ncell': '9808667612'},\n",
       " 3: {'name': 'Hari', 'ntc': '9845990615', 'ncell': '9808667610'}}"
      ]
     },
     "execution_count": 29,
     "metadata": {},
     "output_type": "execute_result"
    }
   ],
   "source": [
    "l = {}\n",
    "l[1] = {'name': 'Ram', 'ntc': '9845667654', 'ncell': '9808778765'}\n",
    "l[2] = {'name': 'Shyam', 'ntc': '9845990612', 'ncell': '9808667612'}\n",
    "l[3] = {'name': 'Hari', 'ntc': '9845990615', 'ncell': '9808667610'}\n",
    "l"
   ]
  },
  {
   "cell_type": "code",
   "execution_count": 37,
   "id": "fae188b3-1740-49d1-b0f3-8459a1e92d54",
   "metadata": {},
   "outputs": [
    {
     "name": "stdout",
     "output_type": "stream",
     "text": [
      "{'name': 'Ram', 'ntc': '9845667654', 'ncell': '9808778765'}\n",
      "9845667654\n"
     ]
    }
   ],
   "source": [
    "print(l[1])\n",
    "print(l[1]['ntc'])"
   ]
  },
  {
   "cell_type": "code",
   "execution_count": 39,
   "id": "8daaa24e-e44d-444d-9046-ef674ede96a1",
   "metadata": {},
   "outputs": [
    {
     "data": {
      "text/plain": [
       "{1: {'name': 'Ram', 'ntc': 9845990634, 'ncell': '9808778765'},\n",
       " 2: {'name': 'Shyam', 'ntc': '9845990612', 'ncell': '9808667612'},\n",
       " 3: {'name': 'Hari', 'ntc': '9845990615', 'ncell': '9808667610'}}"
      ]
     },
     "execution_count": 39,
     "metadata": {},
     "output_type": "execute_result"
    }
   ],
   "source": [
    "l[1]['ntc'] = 9845990634\n",
    "l"
   ]
  },
  {
   "cell_type": "code",
   "execution_count": 41,
   "id": "ac19a27b-27fa-4f6c-97b6-2c74e897769a",
   "metadata": {},
   "outputs": [],
   "source": [
    "# WAP for CRUD\n",
    "# list inside list\n",
    "# dict inside list\n",
    "# list inside dict\n",
    "# dict inside dict"
   ]
  },
  {
   "cell_type": "code",
   "execution_count": null,
   "id": "39525da8-9a3c-4f28-bc3e-fab905b0ad2c",
   "metadata": {},
   "outputs": [],
   "source": []
  }
 ],
 "metadata": {
  "kernelspec": {
   "display_name": "Python 3 (ipykernel)",
   "language": "python",
   "name": "python3"
  },
  "language_info": {
   "codemirror_mode": {
    "name": "ipython",
    "version": 3
   },
   "file_extension": ".py",
   "mimetype": "text/x-python",
   "name": "python",
   "nbconvert_exporter": "python",
   "pygments_lexer": "ipython3",
   "version": "3.12.7"
  }
 },
 "nbformat": 4,
 "nbformat_minor": 5
}
