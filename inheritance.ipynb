{
 "cells": [
  {
   "cell_type": "code",
   "execution_count": 4,
   "id": "dfb5b600-6042-4310-b84b-e5fbf56a5b0c",
   "metadata": {},
   "outputs": [],
   "source": [
    "class A:         #parent class\n",
    "    pass\n",
    "    \n",
    "class B(A):      #child class\n",
    "    pass\n",
    "\n",
    "obj = B()"
   ]
  },
  {
   "cell_type": "code",
   "execution_count": 12,
   "id": "89694df5-8b4c-4f7c-b27e-1e2792473e35",
   "metadata": {},
   "outputs": [
    {
     "name": "stdout",
     "output_type": "stream",
     "text": [
      "Ram 34 Kathmandu\n",
      "Hello World I am Ram. I am from Kathmandu. I am 34\n"
     ]
    }
   ],
   "source": [
    "class Data:\n",
    "    def __init__(self,name,age,add):\n",
    "        self.name = name\n",
    "        self.age = age\n",
    "        self.add = add\n",
    "    def data(self):\n",
    "        print(self.name,self.age,self.add)\n",
    "\n",
    "class Info(Data):\n",
    "    def info(self):\n",
    "        a = f\"Hello World I am {self.name}. I am from {self.add}. I am {self.age}\"\n",
    "        print(a)\n",
    "\n",
    "obj = Info(\"Ram\",34,\"Kathmandu\")\n",
    "obj.data()\n",
    "obj.info()"
   ]
  },
  {
   "cell_type": "code",
   "execution_count": 34,
   "id": "c7e39c9c-d93c-475c-ac82-f8910e75ff79",
   "metadata": {},
   "outputs": [
    {
     "name": "stdout",
     "output_type": "stream",
     "text": [
      "Kathmandu\n",
      "Hello World I am Ram. I am from Kathmandu. I am 34\n",
      "Ram 34\n"
     ]
    }
   ],
   "source": [
    "class Data:\n",
    "    def __init__(self,add):\n",
    "        self.add = add\n",
    "    def data(self):\n",
    "        print(self.add)\n",
    "\n",
    "class Info(Data):\n",
    "    def __init__(self,name,age,add):\n",
    "        self.name = name\n",
    "        self.age = age\n",
    "        Data.__init__(self,add)\n",
    "    def info(self):\n",
    "        a = f\"Hello World I am {self.name}. I am from {self.add}. I am {self.age}\"\n",
    "        print(a)\n",
    "\n",
    "obj = Info(\"Ram\",34,\"Kathmandu\")\n",
    "obj.data()\n",
    "obj.info()\n",
    "print(obj.name,obj.age)"
   ]
  },
  {
   "cell_type": "code",
   "execution_count": 18,
   "id": "dbd7529a-d09e-4914-b1e4-77f9737d0954",
   "metadata": {},
   "outputs": [],
   "source": [
    "#Multilevel\n",
    "# class A:\n",
    "#     pass\n",
    "# class B(A):\n",
    "#     pass\n",
    "# class C(B):\n",
    "#     pass\n",
    "\n",
    "# obj = C()"
   ]
  },
  {
   "cell_type": "code",
   "execution_count": 22,
   "id": "98fc17d2-9e63-4528-a299-aebd94d16c3d",
   "metadata": {},
   "outputs": [
    {
     "name": "stdout",
     "output_type": "stream",
     "text": [
      "Kathmandu\n",
      "Hello World I am Ram. I am from Kathmandu. I am 34\n"
     ]
    }
   ],
   "source": [
    "class MyAge:\n",
    "    def __init__(self,age):\n",
    "        self.age = age\n",
    "    def myage(self):\n",
    "        print(self.myage)\n",
    "        \n",
    "class Data(MyAge):\n",
    "    def __init__(self,age,add):\n",
    "        self.add = add\n",
    "        MyAge.__init__(self,age)\n",
    "    def data(self):\n",
    "        print(self.add)\n",
    "\n",
    "class Info(Data):\n",
    "    def __init__(self,name,age,add):\n",
    "        self.name = name\n",
    "        Data.__init__(self,age,add)\n",
    "    def info(self):\n",
    "        a = f\"Hello World I am {self.name}. I am from {self.add}. I am {self.age}\"\n",
    "        print(a)\n",
    "\n",
    "obj = Info(\"Ram\",34,\"Kathmandu\")\n",
    "obj.data()\n",
    "obj.info()"
   ]
  },
  {
   "cell_type": "code",
   "execution_count": 30,
   "id": "a43466a2-6605-41a8-9f83-f31f42449a04",
   "metadata": {},
   "outputs": [
    {
     "name": "stdout",
     "output_type": "stream",
     "text": [
      "Kathmandu\n",
      "34\n",
      "Hello World I am Ram. I am from Kathmandu. I am 34\n"
     ]
    }
   ],
   "source": [
    "class MyAge:\n",
    "    def __init__(self,age):\n",
    "        self.age = age\n",
    "    def myage(self):\n",
    "        print(self.age)\n",
    "        \n",
    "class Data:\n",
    "    def __init__(self,add):\n",
    "        self.add = add\n",
    "    def data(self):\n",
    "        print(self.add)\n",
    "\n",
    "class Info(MyAge,Data):\n",
    "    def __init__(self,name,age,add):\n",
    "        self.name = name\n",
    "        Data.__init__(self,add)\n",
    "        MyAge.__init__(self,age)\n",
    "    def info(self):\n",
    "        a = f\"Hello World I am {self.name}. I am from {self.add}. I am {self.age}\"\n",
    "        print(a)\n",
    "\n",
    "obj = Info(\"Ram\",34,\"Kathmandu\")\n",
    "obj.data()\n",
    "obj.myage()\n",
    "obj.info()"
   ]
  },
  {
   "cell_type": "code",
   "execution_count": 2,
   "id": "222077be-2296-4700-85fd-020143d1daf5",
   "metadata": {},
   "outputs": [
    {
     "name": "stdout",
     "output_type": "stream",
     "text": [
      "Ram\n",
      "23\n",
      "Kathmandu\n"
     ]
    }
   ],
   "source": [
    "# Public members\n",
    "class Info:\n",
    "    def __init__(self,name,age,add):\n",
    "        self.name = name\n",
    "        self.age = age\n",
    "        self.add = add\n",
    "\n",
    "obj = Info(\"Ram\",23,\"Kathmandu\")\n",
    "print(obj.name)\n",
    "print(obj.age)\n",
    "print(obj.add)"
   ]
  },
  {
   "cell_type": "code",
   "execution_count": 6,
   "id": "989d5f40-2d22-45eb-9578-7eacd97d624a",
   "metadata": {},
   "outputs": [
    {
     "name": "stdout",
     "output_type": "stream",
     "text": [
      "Ram\n",
      "23\n",
      "Kathmandu\n"
     ]
    }
   ],
   "source": [
    "# Protected members\n",
    "class Info:\n",
    "    def __init__(self,name,age,add):\n",
    "        self._name = name\n",
    "        self._age = age\n",
    "        self._add = add\n",
    "\n",
    "obj = Info(\"Ram\",23,\"Kathmandu\")\n",
    "print(obj._name)\n",
    "print(obj._age)\n",
    "print(obj._add)"
   ]
  },
  {
   "cell_type": "code",
   "execution_count": 8,
   "id": "b05beb20-938b-41a9-a72f-d48c8c6cb15b",
   "metadata": {},
   "outputs": [
    {
     "ename": "AttributeError",
     "evalue": "'Info' object has no attribute '__name'",
     "output_type": "error",
     "traceback": [
      "\u001b[1;31m---------------------------------------------------------------------------\u001b[0m",
      "\u001b[1;31mAttributeError\u001b[0m                            Traceback (most recent call last)",
      "Cell \u001b[1;32mIn[8], line 9\u001b[0m\n\u001b[0;32m      6\u001b[0m         \u001b[38;5;28mself\u001b[39m\u001b[38;5;241m.\u001b[39m__add \u001b[38;5;241m=\u001b[39m add\n\u001b[0;32m      8\u001b[0m obj \u001b[38;5;241m=\u001b[39m Info(\u001b[38;5;124m\"\u001b[39m\u001b[38;5;124mRam\u001b[39m\u001b[38;5;124m\"\u001b[39m,\u001b[38;5;241m23\u001b[39m,\u001b[38;5;124m\"\u001b[39m\u001b[38;5;124mKathmandu\u001b[39m\u001b[38;5;124m\"\u001b[39m)\n\u001b[1;32m----> 9\u001b[0m \u001b[38;5;28mprint\u001b[39m(obj\u001b[38;5;241m.\u001b[39m__name)\n\u001b[0;32m     10\u001b[0m \u001b[38;5;28mprint\u001b[39m(obj\u001b[38;5;241m.\u001b[39m__age)\n\u001b[0;32m     11\u001b[0m \u001b[38;5;28mprint\u001b[39m(obj\u001b[38;5;241m.\u001b[39m__add)\n",
      "\u001b[1;31mAttributeError\u001b[0m: 'Info' object has no attribute '__name'"
     ]
    }
   ],
   "source": [
    "# Private members\n",
    "class Info:\n",
    "    def __init__(self,name,age,add):\n",
    "        self.__name = name\n",
    "        self.__age = age\n",
    "        self.__add = add\n",
    "\n",
    "obj = Info(\"Ram\",23,\"Kathmandu\")\n",
    "print(obj.__name)\n",
    "print(obj.__age)\n",
    "print(obj.__add)"
   ]
  },
  {
   "cell_type": "code",
   "execution_count": 16,
   "id": "94dc1847-7857-48d3-928c-a6aabdd26344",
   "metadata": {},
   "outputs": [
    {
     "name": "stdout",
     "output_type": "stream",
     "text": [
      "Ram 34 Kathmandu\n",
      "Hello World I am Ram. I am 34\n",
      "Kathmandu\n",
      "Ram\n"
     ]
    }
   ],
   "source": [
    "class Data:\n",
    "    def __init__(self,name,age,add):\n",
    "        self.name = name\n",
    "        self._age = age\n",
    "        self.__add = add\n",
    "    def data(self):\n",
    "        print(self.name,self._age,self.__add)\n",
    "    def my_add(self):\n",
    "        return  self.__add\n",
    "\n",
    "class Info(Data):\n",
    "    def info(self):\n",
    "        a = f\"Hello World I am {self.name}. I am {self._age}\"\n",
    "        print(a)\n",
    "\n",
    "obj = Info(\"Ram\",34,\"Kathmandu\")\n",
    "obj.data()\n",
    "obj.info()\n",
    "print(obj.name)"
   ]
  },
  {
   "cell_type": "code",
   "execution_count": 18,
   "id": "33b77ede-8598-4724-b820-7a04fccf0f95",
   "metadata": {},
   "outputs": [
    {
     "name": "stdout",
     "output_type": "stream",
     "text": [
      "Ram 34 Kathmandu\n",
      "Hello World I am Ram. I am from Kathmandu. I am 34\n",
      "Kathmandu\n",
      "Ram\n"
     ]
    }
   ],
   "source": [
    "class Data:\n",
    "    def __init__(self,name,age,add):\n",
    "        self.name = name\n",
    "        self._age = age\n",
    "        self.__add = add\n",
    "    def data(self):\n",
    "        print(self.name,self._age,self.__add)\n",
    "    def my_add(self):\n",
    "        return  self.__add\n",
    "\n",
    "class Info(Data):\n",
    "    def info(self):\n",
    "        a = f\"Hello World I am {self.name}. I am from {Data.my_add(self)}. I am {self._age}\"\n",
    "        print(a)\n",
    "\n",
    "obj = Info(\"Ram\",34,\"Kathmandu\")\n",
    "obj.data()\n",
    "obj.info()\n",
    "print(obj.name)"
   ]
  },
  {
   "cell_type": "code",
   "execution_count": 22,
   "id": "43fd1d92-0b48-4523-8c44-874b7f37e6d2",
   "metadata": {},
   "outputs": [],
   "source": [
    "# Polymerphysim"
   ]
  },
  {
   "cell_type": "code",
   "execution_count": null,
   "id": "fcc9de10-c370-4fcc-abfb-4581fe6b365d",
   "metadata": {},
   "outputs": [],
   "source": [
    "class A:\n",
    "    <method1>()\n",
    "    <method2>() \n",
    "class B:\n",
    "    <method1>()\n",
    "    <method2>()\n",
    "\n",
    "<define function>     #object as an argument (commom interface)\n",
    "obj1 = A()\n",
    "obj2 = B()\n",
    "function(obj1 or obj2)"
   ]
  },
  {
   "cell_type": "code",
   "execution_count": 26,
   "id": "0823c0b8-7c1e-4cd0-816e-e6477857f416",
   "metadata": {},
   "outputs": [
    {
     "name": "stdout",
     "output_type": "stream",
     "text": [
      "Parrot can fly\n",
      "Parrot can't swim\n",
      "Penguin can't fly\n",
      "Penguin can swim\n"
     ]
    }
   ],
   "source": [
    "class Parrot:\n",
    "    def fly(self):\n",
    "        print(\"Parrot can fly\")\n",
    "    def swim(self):\n",
    "        print(\"Parrot can't swim\")\n",
    "\n",
    "class Penguin:\n",
    "    def fly(self):\n",
    "        print(\"Penguin can't fly\")\n",
    "    def swim(self):\n",
    "        print(\"Penguin can swim\")\n",
    "\n",
    "# common interface\n",
    "def flying_test(bird):\n",
    "    bird.fly()\n",
    "    bird.swim()\n",
    "    \n",
    "#instantiate objects\n",
    "blu = Parrot()\n",
    "peggy = Penguin()\n",
    "\n",
    "# passing the object\n",
    "flying_test(blu)         #object as an argument\n",
    "flying_test(peggy)       #object as an argument"
   ]
  },
  {
   "cell_type": "code",
   "execution_count": null,
   "id": "19cf4ca0-7ef0-4081-8acd-a485d87c0da9",
   "metadata": {},
   "outputs": [],
   "source": []
  }
 ],
 "metadata": {
  "kernelspec": {
   "display_name": "Python 3 (ipykernel)",
   "language": "python",
   "name": "python3"
  },
  "language_info": {
   "codemirror_mode": {
    "name": "ipython",
    "version": 3
   },
   "file_extension": ".py",
   "mimetype": "text/x-python",
   "name": "python",
   "nbconvert_exporter": "python",
   "pygments_lexer": "ipython3",
   "version": "3.12.7"
  }
 },
 "nbformat": 4,
 "nbformat_minor": 5
}
