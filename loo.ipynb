{
 "cells": [
  {
   "cell_type": "code",
   "execution_count": 1,
   "id": "e0eecfc5-0a4b-469b-af66-03527e94bd40",
   "metadata": {},
   "outputs": [],
   "source": [
    "# loop\n",
    "# for loop\n",
    "# while loop"
   ]
  },
  {
   "cell_type": "code",
   "execution_count": 3,
   "id": "d5da40b3-52a7-47d5-9dc8-d42c76f34f2c",
   "metadata": {},
   "outputs": [],
   "source": [
    "# range(5)   #0,1,2,3,4\n",
    "# range(1,5) #1,2,3,4\n",
    "# range(0,5,2) #0,2,4"
   ]
  },
  {
   "cell_type": "code",
   "execution_count": 11,
   "id": "02424adb-3eeb-4409-adc0-cc2f1db427d1",
   "metadata": {},
   "outputs": [
    {
     "name": "stdout",
     "output_type": "stream",
     "text": [
      "0 Hello World\n",
      "1 Hello World\n",
      "2 Hello World\n",
      "3 Hello World\n",
      "4 Hello World\n"
     ]
    }
   ],
   "source": [
    "for i in range(5):\n",
    "    print(i,\"Hello World\")"
   ]
  },
  {
   "cell_type": "code",
   "execution_count": 13,
   "id": "238a2cae-1d29-4b54-b08a-206a4bc164a7",
   "metadata": {},
   "outputs": [
    {
     "name": "stdout",
     "output_type": "stream",
     "text": [
      "1 Hello World\n",
      "2 Hello World\n",
      "3 Hello World\n",
      "4 Hello World\n"
     ]
    }
   ],
   "source": [
    "for i in range(1,5):\n",
    "    print(i,\"Hello World\")"
   ]
  },
  {
   "cell_type": "code",
   "execution_count": 15,
   "id": "a8dae4b3-5f17-4ccb-a470-a643eea9def1",
   "metadata": {},
   "outputs": [
    {
     "name": "stdout",
     "output_type": "stream",
     "text": [
      "1 Hello World\n",
      "3 Hello World\n"
     ]
    }
   ],
   "source": [
    "for i in range(1,5,2):\n",
    "    print(i,\"Hello World\")"
   ]
  },
  {
   "cell_type": "code",
   "execution_count": 23,
   "id": "66096727-3ad0-4ceb-9eca-0e0eca2a2637",
   "metadata": {},
   "outputs": [
    {
     "name": "stdin",
     "output_type": "stream",
     "text": [
      "Enter a =  6\n"
     ]
    },
    {
     "name": "stdout",
     "output_type": "stream",
     "text": [
      "6 * 1 = 6\n",
      "6 * 2 = 12\n",
      "6 * 3 = 18\n",
      "6 * 4 = 24\n",
      "6 * 5 = 30\n",
      "6 * 6 = 36\n",
      "6 * 7 = 42\n",
      "6 * 8 = 48\n",
      "6 * 9 = 54\n",
      "6 * 10 = 60\n"
     ]
    }
   ],
   "source": [
    "a = int(input(\"Enter a = \"))\n",
    "for i in range(1,11):\n",
    "    print(a,\"*\",i,\"=\",a*i)"
   ]
  },
  {
   "cell_type": "code",
   "execution_count": 1,
   "id": "80794822-82e1-4b39-a194-193c94b7e5b3",
   "metadata": {},
   "outputs": [
    {
     "name": "stdin",
     "output_type": "stream",
     "text": [
      "Enter a =  1000\n"
     ]
    },
    {
     "name": "stdout",
     "output_type": "stream",
     "text": [
      "1000\n"
     ]
    },
    {
     "name": "stdin",
     "output_type": "stream",
     "text": [
      "Enter a =  2000\n"
     ]
    },
    {
     "name": "stdout",
     "output_type": "stream",
     "text": [
      "3000\n"
     ]
    },
    {
     "name": "stdin",
     "output_type": "stream",
     "text": [
      "Enter a =  500\n"
     ]
    },
    {
     "name": "stdout",
     "output_type": "stream",
     "text": [
      "3500\n"
     ]
    },
    {
     "name": "stdin",
     "output_type": "stream",
     "text": [
      "Enter a =  4000\n"
     ]
    },
    {
     "name": "stdout",
     "output_type": "stream",
     "text": [
      "7500\n"
     ]
    },
    {
     "name": "stdin",
     "output_type": "stream",
     "text": [
      "Enter a =  6000\n"
     ]
    },
    {
     "name": "stdout",
     "output_type": "stream",
     "text": [
      "13500\n"
     ]
    }
   ],
   "source": [
    "s = 0\n",
    "for i in range(5):\n",
    "    a = int(input(\"Enter a = \"))\n",
    "    s = s + a\n",
    "    print(s)"
   ]
  },
  {
   "cell_type": "code",
   "execution_count": 7,
   "id": "48ebbb16-278e-4d4c-b2db-a3f87ad72448",
   "metadata": {},
   "outputs": [
    {
     "name": "stdin",
     "output_type": "stream",
     "text": [
      "Enter n =  3\n",
      "Enter a =  4000\n"
     ]
    },
    {
     "name": "stdout",
     "output_type": "stream",
     "text": [
      "4000\n"
     ]
    },
    {
     "name": "stdin",
     "output_type": "stream",
     "text": [
      "Enter a =  3000\n"
     ]
    },
    {
     "name": "stdout",
     "output_type": "stream",
     "text": [
      "7000\n"
     ]
    },
    {
     "name": "stdin",
     "output_type": "stream",
     "text": [
      "Enter a =  2000\n"
     ]
    },
    {
     "name": "stdout",
     "output_type": "stream",
     "text": [
      "9000\n"
     ]
    }
   ],
   "source": [
    "s = 0\n",
    "n = int(input(\"Enter n = \"))\n",
    "for i in range(n):\n",
    "    a = int(input(\"Enter a = \"))\n",
    "    s = s + a\n",
    "    print(s)"
   ]
  },
  {
   "cell_type": "code",
   "execution_count": 13,
   "id": "97685038-16d6-4032-a586-e31672b21485",
   "metadata": {},
   "outputs": [
    {
     "name": "stdin",
     "output_type": "stream",
     "text": [
      "Enter n =  2\n",
      "Enter name =  Ram\n",
      "Enter phone =  9856776543\n",
      "Enter name =  Shyam\n",
      "Enter phone =  9867667645\n"
     ]
    },
    {
     "name": "stdout",
     "output_type": "stream",
     "text": [
      "Ram--9856776543\n",
      "Shyam--9867667645\n",
      "\n"
     ]
    }
   ],
   "source": [
    "s = \"\"\n",
    "n = int(input(\"Enter n = \"))\n",
    "for i in range(n):\n",
    "    name = input(\"Enter name = \")\n",
    "    phone = input(\"Enter phone = \")\n",
    "    s = s + name + \"--\" +phone + \"\\n\"\n",
    "\n",
    "print(s)"
   ]
  },
  {
   "cell_type": "code",
   "execution_count": 15,
   "id": "e906fb05-488d-4466-9672-0513a1a37996",
   "metadata": {},
   "outputs": [],
   "source": [
    "# 4! = 1*2*3*4\n",
    "# 5 = 1+2+3+4+5"
   ]
  },
  {
   "cell_type": "code",
   "execution_count": 23,
   "id": "0f52ea16-d507-4e36-83cc-82da1a321ed4",
   "metadata": {},
   "outputs": [
    {
     "name": "stdin",
     "output_type": "stream",
     "text": [
      "Enter n =  5\n"
     ]
    },
    {
     "name": "stdout",
     "output_type": "stream",
     "text": [
      "s =  1\n",
      "s =  3\n",
      "s =  6\n",
      "s =  10\n",
      "s =  15\n"
     ]
    }
   ],
   "source": [
    "s = 0\n",
    "n = int(input(\"Enter n = \"))\n",
    "for i in range(1,n+1):\n",
    "    s = s+i\n",
    "    print(\"s = \",s)"
   ]
  },
  {
   "cell_type": "code",
   "execution_count": 27,
   "id": "3546a227-9539-4e42-9586-9deacd5d8d92",
   "metadata": {},
   "outputs": [
    {
     "name": "stdin",
     "output_type": "stream",
     "text": [
      "Enter n =  5\n"
     ]
    },
    {
     "name": "stdout",
     "output_type": "stream",
     "text": [
      "s =  120\n"
     ]
    }
   ],
   "source": [
    "s = 1\n",
    "n = int(input(\"Enter n = \"))\n",
    "for i in range(1,n+1):\n",
    "    s = s*i\n",
    "print(\"s = \",s)"
   ]
  },
  {
   "cell_type": "code",
   "execution_count": 33,
   "id": "263db764-8a76-4601-8b7d-851de82b37f7",
   "metadata": {},
   "outputs": [
    {
     "name": "stdout",
     "output_type": "stream",
     "text": [
      "\n",
      "o\n",
      "oo\n",
      "ooo\n",
      "oooo\n"
     ]
    }
   ],
   "source": [
    "for i in range(5):\n",
    "    print(i*'o')"
   ]
  },
  {
   "cell_type": "code",
   "execution_count": 73,
   "id": "59623682-ff8f-448b-80dc-40d741ac8807",
   "metadata": {},
   "outputs": [
    {
     "name": "stdout",
     "output_type": "stream",
     "text": [
      "      \n",
      "     *\n",
      "    ***\n",
      "   *****\n",
      "  *******\n"
     ]
    }
   ],
   "source": [
    "for i in range(5):\n",
    "    print(\" \"*(5-i),(2*i-1)*'*')"
   ]
  },
  {
   "cell_type": "code",
   "execution_count": 69,
   "id": "a487af2a-e5d4-4986-9334-81d4f48481a1",
   "metadata": {},
   "outputs": [
    {
     "name": "stdout",
     "output_type": "stream",
     "text": [
      "      \n",
      "     *\n",
      "    ***\n",
      "   *****\n",
      "  *******\n",
      "    **\n",
      "    **\n",
      "    **\n",
      "    **\n"
     ]
    }
   ],
   "source": [
    "for i in range(5):\n",
    "    print(\" \"*(5-i),(2*i-1)*'*')\n",
    "for i in range(1,5):\n",
    "    print(\" \"*3,\"*\"*2)"
   ]
  },
  {
   "cell_type": "code",
   "execution_count": 1,
   "id": "6b5a81a6-63df-4895-b70d-7ac7121850e5",
   "metadata": {},
   "outputs": [],
   "source": [
    "# loop in string"
   ]
  },
  {
   "cell_type": "code",
   "execution_count": 13,
   "id": "db5fcfb3-1467-4f98-98be-d09fdcee3771",
   "metadata": {},
   "outputs": [
    {
     "name": "stdout",
     "output_type": "stream",
     "text": [
      "H e l l o "
     ]
    }
   ],
   "source": [
    "a = \"Hello\"\n",
    "for i in a:\n",
    "    print(i,end = \" \")"
   ]
  },
  {
   "cell_type": "code",
   "execution_count": 19,
   "id": "713f0be3-8121-48ca-bf74-fe74a8d0c1f9",
   "metadata": {},
   "outputs": [
    {
     "name": "stdout",
     "output_type": "stream",
     "text": [
      "Hello World I am Python"
     ]
    }
   ],
   "source": [
    "a = \"Hello World. I am Python.\"\n",
    "for i in a:\n",
    "    if i != \".\":\n",
    "        print(i, end = \"\")"
   ]
  },
  {
   "cell_type": "code",
   "execution_count": 29,
   "id": "d5167e87-e978-4635-945b-179ec5b37551",
   "metadata": {},
   "outputs": [
    {
     "name": "stdout",
     "output_type": "stream",
     "text": [
      "Hello World I am Python"
     ]
    }
   ],
   "source": [
    "a = \"Hello World! I am Python.\"\n",
    "for i in a:\n",
    "    if i != \".\" and i != \"!\":\n",
    "        print(i, end = \"\")"
   ]
  },
  {
   "cell_type": "code",
   "execution_count": 31,
   "id": "514ab937-7a8d-4405-9caf-6e102c2781f4",
   "metadata": {},
   "outputs": [
    {
     "name": "stdout",
     "output_type": "stream",
     "text": [
      "Hello World\n",
      "\n",
      " I am Python."
     ]
    }
   ],
   "source": [
    "a = \"Hello World! I am Python.\"\n",
    "for i in a:\n",
    "    if i != \"!\":\n",
    "        print(i, end = \"\")\n",
    "    else:\n",
    "        print(\"\\n\")"
   ]
  },
  {
   "cell_type": "code",
   "execution_count": null,
   "id": "8ef0f604-4adb-40b9-86c9-9898127bece9",
   "metadata": {},
   "outputs": [],
   "source": [
    "# control statement\n",
    "#break\n",
    "#continue"
   ]
  },
  {
   "cell_type": "code",
   "execution_count": 35,
   "id": "eb6e6ae2-d091-4360-88cc-13d759e05423",
   "metadata": {},
   "outputs": [
    {
     "name": "stdout",
     "output_type": "stream",
     "text": [
      "0 1 2 3 4 "
     ]
    }
   ],
   "source": [
    "for i in range(10):\n",
    "    if i == 5:\n",
    "        break\n",
    "    print(i,end = \" \")"
   ]
  },
  {
   "cell_type": "code",
   "execution_count": 37,
   "id": "36f88607-10c1-4d6b-a7ff-2147755d80c4",
   "metadata": {},
   "outputs": [
    {
     "name": "stdout",
     "output_type": "stream",
     "text": [
      "0 1 2 3 4 6 7 8 9 "
     ]
    }
   ],
   "source": [
    "for i in range(10):\n",
    "    if i == 5:\n",
    "        continue\n",
    "    print(i,end = \" \")"
   ]
  },
  {
   "cell_type": "code",
   "execution_count": 45,
   "id": "57f2943e-8c42-4e4a-b0c1-1c1a47601de3",
   "metadata": {},
   "outputs": [
    {
     "name": "stdout",
     "output_type": "stream",
     "text": [
      "Hello World.\n"
     ]
    }
   ],
   "source": [
    "a = \"Hello World. I am Python.\"\n",
    "for i in a:\n",
    "    if i != \".\":\n",
    "        print(i, end = \"\")\n",
    "    else:\n",
    "        print(\".\")\n",
    "        break"
   ]
  },
  {
   "cell_type": "code",
   "execution_count": 55,
   "id": "c0ddc42a-d018-45d2-8082-716e4e489968",
   "metadata": {},
   "outputs": [
    {
     "name": "stdout",
     "output_type": "stream",
     "text": [
      "10 9 8 7 6 5 4 3 2 1 0 "
     ]
    }
   ],
   "source": [
    "for i in range(10,-1,-1):\n",
    "    print(i,end = \" \")"
   ]
  },
  {
   "cell_type": "code",
   "execution_count": 57,
   "id": "f209a1fa-4fd0-444a-8099-2622709fe1ee",
   "metadata": {},
   "outputs": [],
   "source": [
    "# # while loop\n",
    "# while <condition>:\n",
    "#     <operation>"
   ]
  },
  {
   "cell_type": "code",
   "execution_count": 1,
   "id": "49e8b327-10aa-4744-912e-01e37a2667ad",
   "metadata": {},
   "outputs": [
    {
     "name": "stdout",
     "output_type": "stream",
     "text": [
      "Hello World\n",
      "Hello World\n",
      "Hello World\n",
      "Hello World\n",
      "Hello World\n",
      "Hello World\n"
     ]
    }
   ],
   "source": [
    "i = 0\n",
    "while i<=5:\n",
    "    print(\"Hello World\")\n",
    "    i = i+1"
   ]
  },
  {
   "cell_type": "code",
   "execution_count": 3,
   "id": "d6303f91-4a23-4e24-9cc4-001d2ef526a6",
   "metadata": {},
   "outputs": [
    {
     "name": "stdin",
     "output_type": "stream",
     "text": [
      "Enter a =  5\n"
     ]
    },
    {
     "name": "stdout",
     "output_type": "stream",
     "text": [
      "5 * 1 = 5\n",
      "5 * 2 = 10\n",
      "5 * 3 = 15\n",
      "5 * 4 = 20\n",
      "5 * 5 = 25\n",
      "5 * 6 = 30\n",
      "5 * 7 = 35\n",
      "5 * 8 = 40\n",
      "5 * 9 = 45\n",
      "5 * 10 = 50\n"
     ]
    }
   ],
   "source": [
    "i = 1\n",
    "a = int(input(\"Enter a = \"))\n",
    "while i<=10:\n",
    "    print(a,\"*\",i,\"=\",a*i)\n",
    "    i = i+1"
   ]
  },
  {
   "cell_type": "code",
   "execution_count": 5,
   "id": "6a7fa1b6-0643-4683-aead-a54bdc8d7ac2",
   "metadata": {},
   "outputs": [
    {
     "name": "stdin",
     "output_type": "stream",
     "text": [
      "Enter n =  3\n",
      "Enter name =  Ram\n",
      "Enter phone =  9808998765\n",
      "Enter name =  Shyam\n",
      "Enter phone =  98679865\n",
      "Enter name =  Hari\n",
      "Enter phone =  9867556543\n"
     ]
    },
    {
     "name": "stdout",
     "output_type": "stream",
     "text": [
      "Ram--9808998765\n",
      "Shyam--98679865\n",
      "Hari--9867556543\n",
      "\n"
     ]
    }
   ],
   "source": [
    "i =0\n",
    "s = \"\"\n",
    "n = int(input(\"Enter n = \"))\n",
    "while i < n:\n",
    "    name = input(\"Enter name = \")\n",
    "    phone = input(\"Enter phone = \")\n",
    "    s = s + name + \"--\" +phone + \"\\n\"\n",
    "    i = i+1\n",
    "print(s)"
   ]
  },
  {
   "cell_type": "code",
   "execution_count": 7,
   "id": "114345c4-ef79-4bf7-a9fe-08c44970506d",
   "metadata": {},
   "outputs": [
    {
     "name": "stdin",
     "output_type": "stream",
     "text": [
      "Enter n =  5\n"
     ]
    },
    {
     "name": "stdout",
     "output_type": "stream",
     "text": [
      "s =  120\n"
     ]
    }
   ],
   "source": [
    "i = 1\n",
    "s = 1\n",
    "n = int(input(\"Enter n = \"))\n",
    "while i<=n:\n",
    "    s = s*i\n",
    "    i = i+1\n",
    "print(\"s = \",s)"
   ]
  },
  {
   "cell_type": "code",
   "execution_count": 11,
   "id": "2668461e-5b6d-4efe-9aec-fe245087c729",
   "metadata": {},
   "outputs": [
    {
     "name": "stdout",
     "output_type": "stream",
     "text": [
      "0 1 2 3 4 Hello\n"
     ]
    }
   ],
   "source": [
    "i = 0\n",
    "while i<=10:\n",
    "    if i == 5:\n",
    "        break\n",
    "    print(i,end = \" \")\n",
    "    i = i +1\n",
    "\n"
   ]
  },
  {
   "cell_type": "code",
   "execution_count": 4,
   "id": "5348fec1-ceb4-44ae-894d-2807e36d73d2",
   "metadata": {},
   "outputs": [
    {
     "name": "stdout",
     "output_type": "stream",
     "text": [
      "0 1 2 3 4 6 7 8 9 10 "
     ]
    }
   ],
   "source": [
    "i = 0\n",
    "while i<=10:\n",
    "    if i == 5:\n",
    "        i = i+1\n",
    "        continue\n",
    "    print(i,end = \" \")\n",
    "    i = i +1\n",
    "\n"
   ]
  },
  {
   "cell_type": "code",
   "execution_count": 8,
   "id": "08fed04a-a95f-4371-824d-66600273430a",
   "metadata": {},
   "outputs": [
    {
     "name": "stdout",
     "output_type": "stream",
     "text": [
      "0 0 0\n",
      "0 0 1\n",
      "0 1 0\n",
      "0 1 1\n",
      "1 0 0\n",
      "1 0 1\n",
      "1 1 0\n",
      "1 1 1\n"
     ]
    }
   ],
   "source": [
    "# nested loop\n",
    "for i in range(2):\n",
    "    for j in range(2):\n",
    "        for k in range(2):\n",
    "            print(i,j,k)"
   ]
  },
  {
   "cell_type": "code",
   "execution_count": null,
   "id": "fa1e5aa6-a968-41ff-8ce6-a358b68c28b1",
   "metadata": {},
   "outputs": [],
   "source": [
    "# WAP to detect if the given no is prime or composite\n",
    "# use for else loop"
   ]
  }
 ],
 "metadata": {
  "kernelspec": {
   "display_name": "Python 3 (ipykernel)",
   "language": "python",
   "name": "python3"
  },
  "language_info": {
   "codemirror_mode": {
    "name": "ipython",
    "version": 3
   },
   "file_extension": ".py",
   "mimetype": "text/x-python",
   "name": "python",
   "nbconvert_exporter": "python",
   "pygments_lexer": "ipython3",
   "version": "3.12.7"
  }
 },
 "nbformat": 4,
 "nbformat_minor": 5
}
