{
 "cells": [
  {
   "cell_type": "code",
   "execution_count": 1,
   "id": "d949d6d9-c7d5-4b39-9cf5-8a31f00b9d98",
   "metadata": {},
   "outputs": [],
   "source": [
    "# Python Collection\n",
    "# List\n",
    "# Tuple\n",
    "# Dictionary\n",
    "# Set"
   ]
  },
  {
   "cell_type": "code",
   "execution_count": 3,
   "id": "e1e93816-f884-4548-b68d-fc0a2bff3ba0",
   "metadata": {},
   "outputs": [],
   "source": [
    "#List\n",
    "# -Indexing\n",
    "# -Odered\n",
    "# -Multiple and duplicate\n",
    "# -Mutable"
   ]
  },
  {
   "cell_type": "code",
   "execution_count": 5,
   "id": "06024449-7c6a-4c58-abcc-baf0a6f2ea59",
   "metadata": {},
   "outputs": [
    {
     "name": "stdout",
     "output_type": "stream",
     "text": [
      "<class 'list'>\n"
     ]
    }
   ],
   "source": [
    "a = list()\n",
    "a = []\n",
    "print(type(a))"
   ]
  },
  {
   "cell_type": "code",
   "execution_count": 11,
   "id": "5ea02de7-d0f3-4304-8d51-4d82f75da157",
   "metadata": {},
   "outputs": [
    {
     "name": "stdout",
     "output_type": "stream",
     "text": [
      "<class 'list'>\n",
      "<class 'list'>\n",
      "[1, 2, 3, 4, 5, 6, 7, 8, 9, 10, 10]\n",
      "['Apple', 'Ball', 'Cat', 'Dog']\n"
     ]
    }
   ],
   "source": [
    "a = [1,2,3,4,5,6,7,8,9,10,10]\n",
    "b = [\"Apple\",\"Ball\",\"Cat\",\"Dog\"]\n",
    "print(type(a))\n",
    "print(type(b))\n",
    "print(a)\n",
    "print(b)"
   ]
  },
  {
   "cell_type": "code",
   "execution_count": 13,
   "id": "eadcfda1-7918-4bf1-b14f-26a3a9a044e1",
   "metadata": {},
   "outputs": [
    {
     "name": "stdout",
     "output_type": "stream",
     "text": [
      "11\n",
      "4\n"
     ]
    }
   ],
   "source": [
    "print(len(a))\n",
    "print(len(b))"
   ]
  },
  {
   "cell_type": "code",
   "execution_count": 35,
   "id": "b5dffc93-6454-482b-ab4a-219d4494d31a",
   "metadata": {},
   "outputs": [
    {
     "name": "stdout",
     "output_type": "stream",
     "text": [
      "Apple\n",
      "Fish\n",
      "['Apple', 'Ball', 'Cat', 'Dog', 'Egg']\n",
      "['Apple', 'Cat', 'Egg']\n",
      "['Fish', 'Egg', 'Dog', 'Cat', 'Ball', 'Apple']\n"
     ]
    }
   ],
   "source": [
    "a = [\"Apple\",\"Ball\",\"Cat\",\"Dog\",\"Egg\",\"Fish\"]\n",
    "print(a[0])\n",
    "print(a[-1])\n",
    "print(a[0:5])\n",
    "print(a[0:6:2])\n",
    "print(a[::-1])"
   ]
  },
  {
   "cell_type": "code",
   "execution_count": 37,
   "id": "4af429b0-5a9d-450b-a23e-07ab44e72dbd",
   "metadata": {},
   "outputs": [
    {
     "name": "stdout",
     "output_type": "stream",
     "text": [
      "[1, 2, 3, 4, 5, 6, 7, 8, 9, 10]\n"
     ]
    }
   ],
   "source": [
    "a = [1,2,3,4,5]\n",
    "b = [6,7,8,9,10]\n",
    "c = a+b\n",
    "print(c)"
   ]
  },
  {
   "cell_type": "code",
   "execution_count": 39,
   "id": "7eb84f0d-4221-4494-89ff-6378ad33526c",
   "metadata": {},
   "outputs": [
    {
     "name": "stdout",
     "output_type": "stream",
     "text": [
      "[1, 2, 3, 4, 5, 1, 2, 3, 4, 5]\n"
     ]
    }
   ],
   "source": [
    "a = [1,2,3,4,5]\n",
    "print(a*2)"
   ]
  },
  {
   "cell_type": "code",
   "execution_count": 41,
   "id": "702631d1-67a3-4ec3-99e6-7b110aa5ce49",
   "metadata": {},
   "outputs": [],
   "source": [
    "# append() insert() extend()"
   ]
  },
  {
   "cell_type": "code",
   "execution_count": 43,
   "id": "d99b4561-db13-4057-a529-fdb624726458",
   "metadata": {},
   "outputs": [
    {
     "name": "stdout",
     "output_type": "stream",
     "text": [
      "['Apple', 'Ball', 'Cat']\n"
     ]
    }
   ],
   "source": [
    "a = []\n",
    "a.append(\"Apple\")\n",
    "a.append(\"Ball\")\n",
    "a.append(\"Cat\")\n",
    "print(a)"
   ]
  },
  {
   "cell_type": "code",
   "execution_count": 45,
   "id": "998586f5-209a-4808-ba97-43ed364c9a78",
   "metadata": {},
   "outputs": [
    {
     "name": "stdin",
     "output_type": "stream",
     "text": [
      "Enter n =  5\n",
      "Enter name =  Ram\n",
      "Enter name =  Shyam\n",
      "Enter name =  Hari\n",
      "Enter name =  Sita\n",
      "Enter name =  Gita\n"
     ]
    },
    {
     "name": "stdout",
     "output_type": "stream",
     "text": [
      "['Ram', 'Shyam', 'Hari', 'Sita', 'Gita']\n"
     ]
    }
   ],
   "source": [
    "l = []\n",
    "n = int(input(\"Enter n = \"))\n",
    "for i in range(n):\n",
    "    a = input(\"Enter name = \")\n",
    "    l.append(a)\n",
    "\n",
    "print(l)"
   ]
  },
  {
   "cell_type": "code",
   "execution_count": 47,
   "id": "b79a3fbc-f57c-4989-9982-f047ed349fba",
   "metadata": {},
   "outputs": [
    {
     "data": {
      "text/plain": [
       "['Ram', 'Akash', 'Shyam', 'Hari', 'Sita', 'Gita']"
      ]
     },
     "execution_count": 47,
     "metadata": {},
     "output_type": "execute_result"
    }
   ],
   "source": [
    "a = ['Ram', 'Shyam', 'Hari', 'Sita', 'Gita']\n",
    "a.insert(1,\"Akash\")\n",
    "a"
   ]
  },
  {
   "cell_type": "code",
   "execution_count": 54,
   "id": "6e60170a-f986-4a75-936f-1d0cda10b9f1",
   "metadata": {},
   "outputs": [
    {
     "name": "stdout",
     "output_type": "stream",
     "text": [
      "[1, 2, 3, 4, 5, 6, 7, 8, 9, 10, 1, 2, 3]\n"
     ]
    }
   ],
   "source": [
    "a = [1,2,3,4,5]\n",
    "b = [6,7,8,9,10]\n",
    "d = [1,2,3]\n",
    "a.extend(b+d)\n",
    "print(a)"
   ]
  },
  {
   "cell_type": "code",
   "execution_count": 56,
   "id": "56dc0db3-750d-465e-83be-8118f90486bb",
   "metadata": {},
   "outputs": [
    {
     "name": "stdout",
     "output_type": "stream",
     "text": [
      "Ram\n",
      "Shyam\n",
      "Hari\n",
      "Sita\n",
      "Gita\n"
     ]
    }
   ],
   "source": [
    "# CRUD\n",
    "#Read\n",
    "a = ['Ram', 'Shyam', 'Hari', 'Sita', 'Gita']\n",
    "for i in a:\n",
    "    print(i)"
   ]
  },
  {
   "cell_type": "code",
   "execution_count": 62,
   "id": "2f78cffc-2929-44df-b379-b70f564a66fa",
   "metadata": {},
   "outputs": [
    {
     "name": "stdout",
     "output_type": "stream",
     "text": [
      "Ram\n",
      "Shyam\n",
      "Hari\n",
      "Sita\n",
      "Gita\n"
     ]
    }
   ],
   "source": [
    "#Read\n",
    "a = ['Ram', 'Shyam', 'Hari', 'Sita', 'Gita']\n",
    "l = len(a)\n",
    "for i in range(l):\n",
    "    print(a[i])"
   ]
  },
  {
   "cell_type": "code",
   "execution_count": 66,
   "id": "46ce1924-5330-47f8-92b6-f849d8272369",
   "metadata": {},
   "outputs": [
    {
     "name": "stdout",
     "output_type": "stream",
     "text": [
      "['Rama', 'Shyam', 'Hari', 'Sita', 'Gita']\n"
     ]
    }
   ],
   "source": [
    "#Update\n",
    "a = ['Ram', 'Shyam', 'Hari', 'Sita', 'Gita']\n",
    "a[0] = 'Rama'\n",
    "print(a)"
   ]
  },
  {
   "cell_type": "code",
   "execution_count": 86,
   "id": "e65e0f72-ac7a-4e82-a016-7986812c7a32",
   "metadata": {},
   "outputs": [
    {
     "name": "stdout",
     "output_type": "stream",
     "text": [
      "['Rama', 'Shyam', 'Hari', 'Sita', 'Gita']\n"
     ]
    }
   ],
   "source": [
    "a = ['Ram', 'Shyam', 'Hari', 'Sita', 'Gita']\n",
    "a[0:1] = ['Rama']\n",
    "print(a)"
   ]
  },
  {
   "cell_type": "code",
   "execution_count": 68,
   "id": "1394f8ab-0fec-4e21-abba-fa1e1836d558",
   "metadata": {},
   "outputs": [
    {
     "name": "stdout",
     "output_type": "stream",
     "text": [
      "['Rama', 'Shyama', 'Hari', 'Sita', 'Gita']\n"
     ]
    }
   ],
   "source": [
    "a = ['Ram', 'Shyam', 'Hari', 'Sita', 'Gita']\n",
    "a[0:2] = ['Rama','Shyama']\n",
    "print(a)"
   ]
  },
  {
   "cell_type": "code",
   "execution_count": 70,
   "id": "7463f1dc-fc97-4fd9-ab13-05fad9d9f059",
   "metadata": {},
   "outputs": [
    {
     "name": "stdout",
     "output_type": "stream",
     "text": [
      "['Rama', 'Hari', 'Sita', 'Gita']\n"
     ]
    }
   ],
   "source": [
    "a = ['Ram', 'Shyam', 'Hari', 'Sita', 'Gita']\n",
    "a[0:2] = ['Rama']\n",
    "print(a)"
   ]
  },
  {
   "cell_type": "code",
   "execution_count": 76,
   "id": "c4b32d1b-cf03-45fe-9176-4b9ca1a54da0",
   "metadata": {},
   "outputs": [
    {
     "data": {
      "text/plain": [
       "['Ram', 'Shyama', 'Hari', 'Sita', 'Gita']"
      ]
     },
     "execution_count": 76,
     "metadata": {},
     "output_type": "execute_result"
    }
   ],
   "source": [
    "a = ['Ram', 'Shyam', 'Hari', 'Sita', 'Gita']\n",
    "#a[a.index(\"Shyam\")] = \"Shyama\"\n",
    "i = a.index(\"Shyam\")\n",
    "a[i] = \"Shyama\"\n",
    "a"
   ]
  },
  {
   "cell_type": "code",
   "execution_count": 1,
   "id": "5c5c9aaf-5d24-44ca-a39a-d2a60186d178",
   "metadata": {},
   "outputs": [
    {
     "name": "stdout",
     "output_type": "stream",
     "text": [
      "['Shyama', 'Hari', 'Sita', 'Gita']\n"
     ]
    }
   ],
   "source": [
    "# delete\n",
    "# del remove() pop()\n",
    "a = ['Ram', 'Shyama', 'Hari', 'Sita', 'Gita']\n",
    "del a[0]\n",
    "print(a)"
   ]
  },
  {
   "cell_type": "code",
   "execution_count": 3,
   "id": "06002a55-bfa8-4454-982e-36b99deebbae",
   "metadata": {},
   "outputs": [
    {
     "name": "stdout",
     "output_type": "stream",
     "text": [
      "['Hari', 'Sita', 'Gita']\n"
     ]
    }
   ],
   "source": [
    "a = ['Ram', 'Shyama', 'Hari', 'Sita', 'Gita']\n",
    "del a[0:2]\n",
    "print(a)"
   ]
  },
  {
   "cell_type": "code",
   "execution_count": 7,
   "id": "dd3083de-2cf6-479d-846a-3505e4bda1a7",
   "metadata": {},
   "outputs": [
    {
     "name": "stdout",
     "output_type": "stream",
     "text": [
      "['Ram', 'Hari', 'Sita', 'Gita']\n"
     ]
    }
   ],
   "source": [
    "a = ['Ram', 'Shyama', 'Hari', 'Sita', 'Gita']\n",
    "a.remove(\"Shyama\")\n",
    "print(a)"
   ]
  },
  {
   "cell_type": "code",
   "execution_count": 11,
   "id": "d0e89785-06e8-43ac-b6ca-761705102d94",
   "metadata": {},
   "outputs": [
    {
     "name": "stdout",
     "output_type": "stream",
     "text": [
      "['Shyama', 'Hari', 'Sita', 'Gita']\n",
      "Ram\n"
     ]
    }
   ],
   "source": [
    "a = ['Ram', 'Shyama', 'Hari', 'Sita', 'Gita']\n",
    "b = a.pop(0)\n",
    "print(a)\n",
    "print(b)"
   ]
  },
  {
   "cell_type": "code",
   "execution_count": 15,
   "id": "eb44e12e-76c6-41b6-b824-841c23cfdc08",
   "metadata": {},
   "outputs": [
    {
     "name": "stdout",
     "output_type": "stream",
     "text": [
      "['Shyama', 'Hari', 'Sita', 'Gita']\n"
     ]
    }
   ],
   "source": [
    "a = ['Ram', 'Shyama', 'Hari',\"Ram\", 'Sita', 'Gita',\"Ram\"]\n",
    "c = a.count(\"Ram\")\n",
    "for i in range(c):\n",
    "    a.remove('Ram')\n",
    "print(a)"
   ]
  },
  {
   "cell_type": "code",
   "execution_count": 21,
   "id": "0f778a73-f7f4-4c59-8cd8-afbf90810fb5",
   "metadata": {},
   "outputs": [
    {
     "name": "stdout",
     "output_type": "stream",
     "text": [
      "0\n",
      "3\n",
      "6\n"
     ]
    }
   ],
   "source": [
    "#Read the index\n",
    "a = ['Ram', 'Shyama', 'Hari',\"Ram\", 'Sita', 'Gita',\"Ram\"]\n",
    "for i in range(len(a)):\n",
    "    if \"Ram\" == a[i]:\n",
    "        print(i)"
   ]
  },
  {
   "cell_type": "code",
   "execution_count": 25,
   "id": "2d898fb8-f17c-4d91-8ab4-5da26032ab12",
   "metadata": {},
   "outputs": [
    {
     "data": {
      "text/plain": [
       "['Rama', 'Shyama', 'Hari', 'Rama', 'Sita', 'Gita', 'Rama', 'Ramesh']"
      ]
     },
     "execution_count": 25,
     "metadata": {},
     "output_type": "execute_result"
    }
   ],
   "source": [
    "#Read and Update\n",
    "a = ['Ram', 'Shyama', 'Hari',\"Ram\", 'Sita', 'Gita',\"Ram\",\"Ramesh\"]\n",
    "for i in range(len(a)):\n",
    "    if \"Ram\" == a[i]:\n",
    "        a[i] = \"Rama\"\n",
    "a"
   ]
  },
  {
   "cell_type": "code",
   "execution_count": 27,
   "id": "df411f3d-99fd-4472-90d5-e43e51f246e4",
   "metadata": {},
   "outputs": [
    {
     "name": "stdout",
     "output_type": "stream",
     "text": [
      "The min value =  45\n",
      "The max value =  798\n",
      "The sum of list =  4704\n",
      "[45, 45, 54, 67, 87, 98, 123, 234, 234, 345, 564, 657, 675, 678, 798]\n",
      "[798, 678, 675, 657, 564, 345, 234, 234, 123, 98, 87, 67, 54, 45, 45]\n"
     ]
    }
   ],
   "source": [
    "# Basic Math\n",
    "#min() max() sum() sort() reverse()\n",
    "a = [234,564,678,798,345,234,54,123,45,675,87,98,67,45,657]\n",
    "print(\"The min value = \",min(a))\n",
    "print(\"The max value = \",max(a))\n",
    "print(\"The sum of list = \",sum(a))\n",
    "a.sort()\n",
    "print(a)\n",
    "a.reverse()\n",
    "print(a)"
   ]
  },
  {
   "cell_type": "code",
   "execution_count": 31,
   "id": "c4816bba-52e3-4e65-ab92-6b76911fd40b",
   "metadata": {},
   "outputs": [
    {
     "name": "stdout",
     "output_type": "stream",
     "text": [
      "['Apple', 'Bat', 'Cat', 'Zebra', 'ant']\n"
     ]
    }
   ],
   "source": [
    "a = [\"Zebra\",\"Apple\",\"Cat\",\"Bat\",\"ant\"]\n",
    "a.sort()\n",
    "print(a)"
   ]
  },
  {
   "cell_type": "code",
   "execution_count": 37,
   "id": "b99622ad-ae49-42d4-99fa-b6c1095a3765",
   "metadata": {},
   "outputs": [
    {
     "name": "stdout",
     "output_type": "stream",
     "text": [
      "['.Zebra', '1ant', 'Apple', 'Bat', 'Cat']\n"
     ]
    }
   ],
   "source": [
    "a = [\".Zebra\",\"Apple\",\"Cat\",\"Bat\",\"1ant\"]\n",
    "a.sort()\n",
    "print(a)"
   ]
  },
  {
   "cell_type": "code",
   "execution_count": 41,
   "id": "62acc48a-82e8-457c-a027-9b954f24d77a",
   "metadata": {},
   "outputs": [
    {
     "name": "stdin",
     "output_type": "stream",
     "text": [
      "Enter data for search =  Apple\n"
     ]
    },
    {
     "name": "stdout",
     "output_type": "stream",
     "text": [
      "yes there is\n",
      "1\n"
     ]
    }
   ],
   "source": [
    "# search\n",
    "a = [\"Zebra\",\"Apple\",\"Cat\",\"Bat\",\"ant\"]\n",
    "search = input(\"Enter data for search = \")\n",
    "if search in a:\n",
    "    print(\"yes there is\")\n",
    "    print(a.count(search))\n",
    "else:\n",
    "    print(\"There is no such Apple\")"
   ]
  },
  {
   "cell_type": "code",
   "execution_count": 43,
   "id": "411d64c1-6b66-4abe-b125-119e8f118652",
   "metadata": {},
   "outputs": [],
   "source": [
    "# Make caseinsensitive"
   ]
  },
  {
   "cell_type": "code",
   "execution_count": 51,
   "id": "5a464f0f-88ea-4681-9371-dc39398e314b",
   "metadata": {},
   "outputs": [
    {
     "name": "stdout",
     "output_type": "stream",
     "text": [
      "3\n"
     ]
    },
    {
     "data": {
      "text/plain": [
       "[['Ram', 34, 'Kathmandu'],\n",
       " ['Shyam', 78, 'Bhaktapur'],\n",
       " ['Hari', 56, 'Lalitpur']]"
      ]
     },
     "execution_count": 51,
     "metadata": {},
     "output_type": "execute_result"
    }
   ],
   "source": [
    "# nested list\n",
    "a = [['Ram',34,'Kathmandu'],\n",
    "    ['Shyam',78,'Bhaktapur'],\n",
    "    ['Hari',56,'Lalitpur']]\n",
    "print(len(a))\n",
    "a"
   ]
  },
  {
   "cell_type": "code",
   "execution_count": 55,
   "id": "98206219-9507-4838-a974-cef7af72971e",
   "metadata": {},
   "outputs": [
    {
     "name": "stdin",
     "output_type": "stream",
     "text": [
      "Enter n =  3\n",
      "Enter name =  Ram\n",
      "Enter age =  78\n",
      "Enter add =  Kathmandu\n",
      "Enter name =  Shyam\n",
      "Enter age =  34\n",
      "Enter add =  Bhaktapur\n",
      "Enter name =  Ram\n",
      "Enter age =  22\n",
      "Enter add =  Bhaktapur\n"
     ]
    },
    {
     "name": "stdout",
     "output_type": "stream",
     "text": [
      "[['Ram', 78, 'Kathmandu'], ['Shyam', 34, 'Bhaktapur'], ['Ram', 22, 'Bhaktapur']]\n"
     ]
    }
   ],
   "source": [
    "info = []\n",
    "n = int(input(\"Enter n = \"))\n",
    "for i in range(n):\n",
    "    name = input(\"Enter name = \")\n",
    "    age = int(input(\"Enter age = \"))\n",
    "    add = input(\"Enter add = \")\n",
    "    info.append([name,age,add])\n",
    "\n",
    "print(info)"
   ]
  },
  {
   "cell_type": "code",
   "execution_count": null,
   "id": "f8c59f72-d967-4df6-8c01-209a24b922d2",
   "metadata": {},
   "outputs": [],
   "source": []
  },
  {
   "cell_type": "code",
   "execution_count": 84,
   "id": "5aef8fb3-b728-4840-b8cb-5d5449e421b8",
   "metadata": {},
   "outputs": [
    {
     "name": "stdout",
     "output_type": "stream",
     "text": [
      "['Ram', 78, 'Kathmandu']\n",
      "Bhaktapur\n"
     ]
    }
   ],
   "source": [
    "info = [['Ram', 78, 'Kathmandu'],\n",
    "        ['Shyam', 34, 'Bhaktapur'], \n",
    "        ['Ram', 22, 'Bhaktapur']]\n",
    "\n",
    "print(info[0])\n",
    "print(info[1][2])"
   ]
  },
  {
   "cell_type": "code",
   "execution_count": 96,
   "id": "7f656e2d-c7b8-4e15-a62b-6f7d7f38675f",
   "metadata": {},
   "outputs": [
    {
     "name": "stdin",
     "output_type": "stream",
     "text": [
      "Enter name Bhaktapur\n"
     ]
    },
    {
     "name": "stdout",
     "output_type": "stream",
     "text": [
      "['Shyam', 34, 'Bhaktapur']\n",
      "['Ram', 22, 'Bhaktapur']\n"
     ]
    }
   ],
   "source": [
    "name = input(\"Enter name\")\n",
    "for i in info:\n",
    "    if name in i:\n",
    "        print(i)"
   ]
  },
  {
   "cell_type": "code",
   "execution_count": 106,
   "id": "f375ae9e-da0e-4404-8d5a-3b75f2646f6a",
   "metadata": {},
   "outputs": [
    {
     "name": "stdin",
     "output_type": "stream",
     "text": [
      "Enter age 70\n"
     ]
    },
    {
     "name": "stdout",
     "output_type": "stream",
     "text": [
      "['Ram', 78, 'Kathmandu']\n"
     ]
    }
   ],
   "source": [
    "age = int(input(\"Enter age\"))\n",
    "for i in info:\n",
    "    if i[1] >=age:\n",
    "        print(i)"
   ]
  },
  {
   "cell_type": "code",
   "execution_count": null,
   "id": "cdb773d1-14d0-46f4-88e2-cf7cc28bdf70",
   "metadata": {},
   "outputs": [],
   "source": [
    "# Try CRUD in info"
   ]
  }
 ],
 "metadata": {
  "kernelspec": {
   "display_name": "Python 3 (ipykernel)",
   "language": "python",
   "name": "python3"
  },
  "language_info": {
   "codemirror_mode": {
    "name": "ipython",
    "version": 3
   },
   "file_extension": ".py",
   "mimetype": "text/x-python",
   "name": "python",
   "nbconvert_exporter": "python",
   "pygments_lexer": "ipython3",
   "version": "3.12.7"
  }
 },
 "nbformat": 4,
 "nbformat_minor": 5
}
