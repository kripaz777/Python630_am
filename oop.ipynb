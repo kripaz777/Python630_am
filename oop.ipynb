{
 "cells": [
  {
   "cell_type": "code",
   "execution_count": 2,
   "id": "4b7858f3-8fb4-44d3-b499-0eba2a08322b",
   "metadata": {},
   "outputs": [],
   "source": [
    "# class <class_name>:     #defining class\n",
    "#     <methods>\n",
    "\n",
    "# obj = <class_name>()    #object"
   ]
  },
  {
   "cell_type": "code",
   "execution_count": 12,
   "id": "c730ad37-bc9a-4224-b329-89f868b6270d",
   "metadata": {},
   "outputs": [
    {
     "name": "stdout",
     "output_type": "stream",
     "text": [
      "Hello World\n"
     ]
    }
   ],
   "source": [
    "class Hello:                  #class\n",
    "    def hello(self):          #method\n",
    "        print(\"Hello World\")\n",
    "\n",
    "obj = Hello()                 #object\n",
    "obj.hello()                   #calling method"
   ]
  },
  {
   "cell_type": "code",
   "execution_count": 14,
   "id": "5ee38eca-4022-4f95-88a1-44e77a71a7ad",
   "metadata": {},
   "outputs": [
    {
     "name": "stdout",
     "output_type": "stream",
     "text": [
      "Hello World\n"
     ]
    }
   ],
   "source": [
    "class Hello:                  #class\n",
    "    @staticmethod\n",
    "    def hello():          #method\n",
    "        print(\"Hello World\")\n",
    "\n",
    "obj = Hello()                 #object\n",
    "obj.hello()                   #calling method"
   ]
  },
  {
   "cell_type": "code",
   "execution_count": null,
   "id": "0061ac2b-354b-4ef7-94b1-fc668280bc1e",
   "metadata": {},
   "outputs": [],
   "source": [
    "class Hello:                  #class\n",
    "    def hello(self):          #method\n",
    "        print(\"Hello World\")\n",
    "\n",
    "obj = Hello()                 #object\n",
    "obj.hello()                   #calling method"
   ]
  },
  {
   "cell_type": "code",
   "execution_count": 16,
   "id": "6e9e6ae4-28ac-4282-aa9d-c48f41c2b99d",
   "metadata": {},
   "outputs": [
    {
     "name": "stdout",
     "output_type": "stream",
     "text": [
      "50\n"
     ]
    }
   ],
   "source": [
    "class Area:\n",
    "    def area(self,l,b):\n",
    "        a = l*b\n",
    "        print(a)\n",
    "\n",
    "obj = Area()\n",
    "obj.area(10,5)"
   ]
  },
  {
   "cell_type": "code",
   "execution_count": 18,
   "id": "a09e5c91-d431-4ef5-86aa-41ea08763eaf",
   "metadata": {},
   "outputs": [
    {
     "name": "stdout",
     "output_type": "stream",
     "text": [
      "50\n"
     ]
    }
   ],
   "source": [
    "class Area:\n",
    "    @staticmethod\n",
    "    def area(l,b):\n",
    "        a = l*b\n",
    "        print(a)\n",
    "\n",
    "obj = Area()\n",
    "obj.area(10,5)"
   ]
  },
  {
   "cell_type": "code",
   "execution_count": 20,
   "id": "a1006d2e-c6d1-4abd-8554-66f23a7b5df1",
   "metadata": {},
   "outputs": [],
   "source": [
    "# __init__()"
   ]
  },
  {
   "cell_type": "code",
   "execution_count": 27,
   "id": "97a43c5b-3044-424d-b4b1-f1db2dd125a8",
   "metadata": {},
   "outputs": [
    {
     "name": "stdout",
     "output_type": "stream",
     "text": [
      "50\n"
     ]
    }
   ],
   "source": [
    "class Area:\n",
    "    def __init__(self,l,b):\n",
    "        self.length = l\n",
    "        self.breadth = b\n",
    "        \n",
    "    def area(self):\n",
    "        a = self.length * self.breadth\n",
    "        print(a)\n",
    "\n",
    "obj = Area(10,5)\n",
    "obj.area()"
   ]
  },
  {
   "cell_type": "code",
   "execution_count": 29,
   "id": "571d81b1-a32a-47b1-a9b4-9a940d63e4d8",
   "metadata": {},
   "outputs": [
    {
     "name": "stdout",
     "output_type": "stream",
     "text": [
      "50\n",
      "100\n"
     ]
    }
   ],
   "source": [
    "class Cal:\n",
    "    def __init__(self,l,b,h):\n",
    "        self.length = l\n",
    "        self.breadth = b\n",
    "        self.height = h\n",
    "        \n",
    "    def area(self):\n",
    "        a = self.length * self.breadth\n",
    "        print(a)\n",
    "        \n",
    "    def volume(this):\n",
    "        v = this.length * this.breadth * this.height\n",
    "        print(v)\n",
    "\n",
    "obj = Cal(10,5,2)\n",
    "obj.area()\n",
    "obj.volume()"
   ]
  },
  {
   "cell_type": "code",
   "execution_count": null,
   "id": "9f27c073-5445-4c94-b96d-ec90b8591980",
   "metadata": {},
   "outputs": [],
   "source": [
    "class Cal:\n",
    "    def __init__(self,l,b):\n",
    "        self.length = l\n",
    "        self.breadth = b\n",
    "        \n",
    "    def area(self):\n",
    "        a = self.length * self.breadth\n",
    "        print(a)\n",
    "        \n",
    "    def volume(this,h):\n",
    "        v = this.length * this.breadth * h\n",
    "        print(v)\n",
    "\n",
    "obj = Cal(10,5)\n",
    "obj.area()\n",
    "obj.volume(2)"
   ]
  },
  {
   "cell_type": "code",
   "execution_count": 39,
   "id": "e6592cdc-dc3a-4c74-95d7-ee880e4b61f6",
   "metadata": {},
   "outputs": [
    {
     "name": "stdout",
     "output_type": "stream",
     "text": [
      "50\n",
      "45\n"
     ]
    }
   ],
   "source": [
    "class Area:\n",
    "    def __init__(self,l,b):\n",
    "        self.l = l\n",
    "        self.b = b\n",
    "        \n",
    "    def area(self):\n",
    "        a = self.l*self.b\n",
    "        print(a)\n",
    "\n",
    "obj = Area(10,5)\n",
    "obj1 = Area(15,3)\n",
    "obj.area()\n",
    "obj1.area()"
   ]
  },
  {
   "cell_type": "code",
   "execution_count": 47,
   "id": "e2fd7103-33a6-48d8-b3a4-a5fae5c0680e",
   "metadata": {},
   "outputs": [
    {
     "name": "stdout",
     "output_type": "stream",
     "text": [
      "30\n",
      "100\n"
     ]
    }
   ],
   "source": [
    "class Area:\n",
    "    def __init__(self,l,b):\n",
    "        self.l = l\n",
    "        self.b = b\n",
    "        \n",
    "    def area(self):\n",
    "        a = self.l*self.b\n",
    "        print(a)\n",
    "\n",
    "class Volume:\n",
    "    def __init__(self,l,b,h):\n",
    "        self.l = l\n",
    "        self.b = b\n",
    "        self.h = h\n",
    "    def volume(self):\n",
    "        v = self.l*self.b*self.h\n",
    "        print(v)\n",
    "\n",
    "obj_area = Area(10,3)\n",
    "obj_area.area()\n",
    "obj_vol = Volume(10,5,2)\n",
    "obj_vol.volume()"
   ]
  },
  {
   "cell_type": "code",
   "execution_count": 2,
   "id": "4c4a3a88-42ef-4955-a5ae-c2bef2285af3",
   "metadata": {},
   "outputs": [],
   "source": [
    "# __str__()"
   ]
  },
  {
   "cell_type": "code",
   "execution_count": 20,
   "id": "0ad42a22-20bb-4fbf-8013-4d6bd6391a2d",
   "metadata": {},
   "outputs": [
    {
     "name": "stdout",
     "output_type": "stream",
     "text": [
      "Ram\n",
      "Ram\n"
     ]
    }
   ],
   "source": [
    "class Info:\n",
    "    def __init__(self):\n",
    "        self.name = \"Ram\"\n",
    "        self.age = 34\n",
    "        self.add = \"Kathmandu\"\n",
    "    def __str__(self):           #returns only str value\n",
    "        return self.name\n",
    "\n",
    "obj = Info()\n",
    "print(obj)           #object\n",
    "# print(type(obj))\n",
    "print(str(obj))      #string conversion"
   ]
  },
  {
   "cell_type": "code",
   "execution_count": 30,
   "id": "9fdc3bae-0681-441e-8e80-d77d784f1cb5",
   "metadata": {},
   "outputs": [
    {
     "name": "stdout",
     "output_type": "stream",
     "text": [
      "Hello World I am Ram\n"
     ]
    }
   ],
   "source": [
    "print(f\"Hello World I am {obj}\")\n",
    "#print(obj + \"Shyam\")"
   ]
  },
  {
   "cell_type": "code",
   "execution_count": 34,
   "id": "9760b904-1769-4f73-86d5-57816d0a07b9",
   "metadata": {},
   "outputs": [
    {
     "name": "stdout",
     "output_type": "stream",
     "text": [
      "Ram\n"
     ]
    }
   ],
   "source": [
    "print(obj)"
   ]
  },
  {
   "cell_type": "code",
   "execution_count": 48,
   "id": "2a93406d-a9ee-4063-ba73-d578ab776001",
   "metadata": {},
   "outputs": [
    {
     "name": "stdout",
     "output_type": "stream",
     "text": [
      "This is init method 3000\n",
      "This is init method 2000\n",
      "This is init method 1000\n",
      "This is add method  5000\n",
      "This is init method 5000\n",
      "This is add method  6000\n",
      "This is init method 6000\n",
      "This is str method  6000\n",
      "6000\n"
     ]
    }
   ],
   "source": [
    "#Operator Overloading\n",
    "class Point:\n",
    "    def __init__(self, x = 0):\n",
    "        self.x = x\n",
    "        print(\"This is init method\",self.x)\n",
    "\n",
    "    def __str__(self):\n",
    "        print(\"This is str method \",self.x)\n",
    "        return f\"{self.x}\"\n",
    "    \n",
    "    def __add__(self,other):\n",
    "        x = self.x + other.x\n",
    "        print(\"This is add method \",x)\n",
    "        return Point(x)\n",
    "\n",
    "p1 = Point(3000)\n",
    "p2 = Point(2000)\n",
    "p3 = Point(1000)\n",
    "print(p1 + p2 + p3)"
   ]
  },
  {
   "cell_type": "code",
   "execution_count": null,
   "id": "48f0f604-3f7c-4948-b14f-2044e5b27d9a",
   "metadata": {},
   "outputs": [],
   "source": []
  }
 ],
 "metadata": {
  "kernelspec": {
   "display_name": "Python 3 (ipykernel)",
   "language": "python",
   "name": "python3"
  },
  "language_info": {
   "codemirror_mode": {
    "name": "ipython",
    "version": 3
   },
   "file_extension": ".py",
   "mimetype": "text/x-python",
   "name": "python",
   "nbconvert_exporter": "python",
   "pygments_lexer": "ipython3",
   "version": "3.12.7"
  }
 },
 "nbformat": 4,
 "nbformat_minor": 5
}
