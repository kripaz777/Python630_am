{
 "cells": [
  {
   "cell_type": "code",
   "execution_count": 3,
   "id": "e224d938-9558-41ed-b153-26dba620931c",
   "metadata": {},
   "outputs": [],
   "source": [
    "# file\n",
    "# open('<file_name>','<mode>')\n",
    "\n",
    "# with open('<file_name>','<mode>'):\n",
    "#     <operations>\n",
    "\n",
    "# modes\n",
    "# r -> read\n",
    "# w -> write\n",
    "# x -> create\n",
    "# a -> append"
   ]
  },
  {
   "cell_type": "code",
   "execution_count": 26,
   "id": "e986e066-ac65-4017-bbc8-214214dcd29b",
   "metadata": {},
   "outputs": [
    {
     "name": "stdout",
     "output_type": "stream",
     "text": [
      "Requirement already satisfied: pandas in c:\\users\\aayush\\anaconda3\\lib\\site-packages (2.2.2)\n",
      "Requirement already satisfied: numpy>=1.26.0 in c:\\users\\aayush\\anaconda3\\lib\\site-packages (from pandas) (1.26.4)\n",
      "Requirement already satisfied: python-dateutil>=2.8.2 in c:\\users\\aayush\\anaconda3\\lib\\site-packages (from pandas) (2.9.0.post0)\n",
      "Requirement already satisfied: pytz>=2020.1 in c:\\users\\aayush\\anaconda3\\lib\\site-packages (from pandas) (2024.1)\n",
      "Requirement already satisfied: tzdata>=2022.7 in c:\\users\\aayush\\anaconda3\\lib\\site-packages (from pandas) (2023.3)\n",
      "Requirement already satisfied: six>=1.5 in c:\\users\\aayush\\anaconda3\\lib\\site-packages (from python-dateutil>=2.8.2->pandas) (1.16.0)\n"
     ]
    }
   ],
   "source": [
    "!pip install pandas"
   ]
  },
  {
   "cell_type": "code",
   "execution_count": 11,
   "id": "48d34583-c6b9-4263-b9ee-6311457b0fe8",
   "metadata": {},
   "outputs": [
    {
     "name": "stdout",
     "output_type": "stream",
     "text": [
      "There is same file!\n"
     ]
    }
   ],
   "source": [
    "#creatre\n",
    "try:\n",
    "    file = open('data.txt','x')\n",
    "    file.close()\n",
    "except:\n",
    "    print(\"There is same file!\")"
   ]
  },
  {
   "cell_type": "code",
   "execution_count": 15,
   "id": "3766e7b7-f8f9-4f8b-aebc-12b95990a4fd",
   "metadata": {},
   "outputs": [],
   "source": [
    "#write\n",
    "data = \"Hello World\"\n",
    "file = open('data1.txt','w')\n",
    "file.write(data)\n",
    "file.close()"
   ]
  },
  {
   "cell_type": "code",
   "execution_count": 27,
   "id": "b15d4d82-70b5-483d-8771-0b10124cd4dc",
   "metadata": {},
   "outputs": [],
   "source": [
    "#append\n",
    "data = \"Hello World\\n\"\n",
    "file = open('data1.txt','a')\n",
    "file.write(data)\n",
    "file.close()"
   ]
  },
  {
   "cell_type": "code",
   "execution_count": 17,
   "id": "1842d005-df4e-40c9-aefe-c6827c085d73",
   "metadata": {},
   "outputs": [
    {
     "name": "stdout",
     "output_type": "stream",
     "text": [
      "Hello World\n"
     ]
    }
   ],
   "source": [
    "#read\n",
    "file = open('data.txt','r')\n",
    "my_data = file.read()\n",
    "print(my_data)\n",
    "file.close()"
   ]
  },
  {
   "cell_type": "code",
   "execution_count": 31,
   "id": "059251c7-cee0-4b1a-a06d-0a552d100988",
   "metadata": {},
   "outputs": [
    {
     "name": "stdin",
     "output_type": "stream",
     "text": [
      "Enter n =  2\n",
      "Enter Product name =  Momo\n",
      "Enter price =  200\n",
      "Enter quantity =  3\n",
      "Enter Product name =  Coke\n",
      "Enter price =  150\n",
      "Enter quantity =  5\n"
     ]
    }
   ],
   "source": [
    "# Bill system\n",
    "bill = \"\"\n",
    "n = int(input(\"Enter n = \"))\n",
    "for i in range(n):\n",
    "    product = input(\"Enter Product name = \")\n",
    "    price = int(input(\"Enter price = \"))\n",
    "    qty = float(input(\"Enter quantity = \"))\n",
    "    total = price * qty\n",
    "    row = f\"{product} {price} {qty} {total}\\n\"\n",
    "    bill = bill + row\n",
    "\n",
    "file = open('bill.txt','a')\n",
    "file.write(bill)\n",
    "file.close()"
   ]
  },
  {
   "cell_type": "code",
   "execution_count": 33,
   "id": "4fa28776-4b16-45e5-a89e-b9ffe00035bb",
   "metadata": {},
   "outputs": [
    {
     "name": "stdout",
     "output_type": "stream",
     "text": [
      "Apple 2000 3.0 6000.0\n",
      "Banana 1000 2.0 2000.0\n",
      "Momo 200 3.0 600.0\n",
      "Coke 150 5.0 750.0\n",
      "\n"
     ]
    }
   ],
   "source": [
    "#read\n",
    "file = open('bill.txt','r')\n",
    "my_data = file.read()\n",
    "print(my_data)\n",
    "file.close()"
   ]
  },
  {
   "cell_type": "code",
   "execution_count": 35,
   "id": "a23fac66-be85-4128-ac3d-59c37d7d61fe",
   "metadata": {},
   "outputs": [
    {
     "data": {
      "text/plain": [
       "'Apple 2000 3.0 6000.0\\nBanana 1000 2.0 2000.0\\nMomo 200 3.0 600.0\\nCoke 150 5.0 750.0\\n'"
      ]
     },
     "execution_count": 35,
     "metadata": {},
     "output_type": "execute_result"
    }
   ],
   "source": [
    "my_data"
   ]
  },
  {
   "cell_type": "code",
   "execution_count": 47,
   "id": "f0815b29-5c8d-4c5d-ba28-71937814915e",
   "metadata": {},
   "outputs": [
    {
     "data": {
      "text/plain": [
       "['Apple 2000 3.0 6000.0',\n",
       " 'Banana 1000 2.0 2000.0',\n",
       " 'Momo 200 3.0 600.0',\n",
       " 'Coke 150 5.0 750.0']"
      ]
     },
     "execution_count": 47,
     "metadata": {},
     "output_type": "execute_result"
    }
   ],
   "source": [
    "row = my_data.split('\\n')[0:-1]\n",
    "row"
   ]
  },
  {
   "cell_type": "code",
   "execution_count": 59,
   "id": "54f52c24-d668-4289-8c1a-325d3784d41c",
   "metadata": {},
   "outputs": [
    {
     "data": {
      "text/plain": [
       "[['Apple', 2000, 3.0, 6000.0],\n",
       " ['Banana', 1000, 2.0, 2000.0],\n",
       " ['Momo', 200, 3.0, 600.0],\n",
       " ['Coke', 150, 5.0, 750.0]]"
      ]
     },
     "execution_count": 59,
     "metadata": {},
     "output_type": "execute_result"
    }
   ],
   "source": [
    "bills = []\n",
    "for i in row:\n",
    "    x = i.split()\n",
    "    x[1] = int(x[1])\n",
    "    x[2] = float(x[2])\n",
    "    x[3] = float(x[3])\n",
    "\n",
    "    bills.append(x)\n",
    "\n",
    "bills"
   ]
  },
  {
   "cell_type": "code",
   "execution_count": 63,
   "id": "8491ef67-2b02-479c-95d7-5c4107708e36",
   "metadata": {},
   "outputs": [
    {
     "name": "stdout",
     "output_type": "stream",
     "text": [
      "9350.0\n"
     ]
    }
   ],
   "source": [
    "s = 0\n",
    "for i in bills:\n",
    "    s = s+ i[3]\n",
    "print(s)"
   ]
  },
  {
   "cell_type": "code",
   "execution_count": 75,
   "id": "07e40101-9f10-4a85-87e0-44b44200a260",
   "metadata": {},
   "outputs": [
    {
     "name": "stdin",
     "output_type": "stream",
     "text": [
      "Enter n =  2\n",
      "Enter Product name =  Apple\n",
      "Enter price =  300\n",
      "Enter quantity =  4\n",
      "Enter Product name =  Banana\n",
      "Enter price =  150\n",
      "Enter quantity =  6\n"
     ]
    }
   ],
   "source": [
    "# Bill system\n",
    "bill = \"\"\n",
    "s = 0\n",
    "n = int(input(\"Enter n = \"))\n",
    "for i in range(n):\n",
    "    product = input(\"Enter Product name = \")\n",
    "    price = int(input(\"Enter price = \"))\n",
    "    qty = float(input(\"Enter quantity = \"))\n",
    "    total = price * qty\n",
    "    row = f\"{product},{price},{qty},{total}\\n\"\n",
    "    bill = bill + row\n",
    "    s = s + total\n",
    "#write mode\n",
    "file = open('bill.csv','w')\n",
    "file.write('Product,Price,Quantity,Total\\n')\n",
    "file.write(f\"{bill}\\n\")\n",
    "file.write(f\"Total = {s}\")\n",
    "file.close()\n",
    "\n",
    "#append\n",
    "file = open('all_bill.csv','a')\n",
    "file.write(bill)\n",
    "file.close()"
   ]
  },
  {
   "cell_type": "code",
   "execution_count": 69,
   "id": "2beaafaa-f35a-4cd7-8287-f1d4cb5bb633",
   "metadata": {},
   "outputs": [
    {
     "data": {
      "text/plain": [
       "'C:\\\\Users\\\\Aayush\\\\Python_6_30'"
      ]
     },
     "execution_count": 69,
     "metadata": {},
     "output_type": "execute_result"
    }
   ],
   "source": [
    "pwd"
   ]
  },
  {
   "cell_type": "code",
   "execution_count": 6,
   "id": "920920c6-116c-4d34-85e9-d42fc46a43eb",
   "metadata": {},
   "outputs": [],
   "source": [
    "import csv\n",
    "bill = [['Name','Price','Quantity','Total'],\n",
    "       ['Apple', 2000, 3.0, 6000.0],\n",
    "       ['Banana', 1000, 2.0, 2000.0],\n",
    "       ['Momo', 200, 3.0, 600.0],\n",
    "       ['Coke', 150, 5.0, 750.0]]\n",
    "file = open('list_bill.csv','w')\n",
    "x = csv.writer(file)\n",
    "x.writerows(bill)\n",
    "file.close()"
   ]
  },
  {
   "cell_type": "code",
   "execution_count": 8,
   "id": "33ebdd98-c970-4c94-8750-55936adcaada",
   "metadata": {},
   "outputs": [
    {
     "data": {
      "text/html": [
       "<div>\n",
       "<style scoped>\n",
       "    .dataframe tbody tr th:only-of-type {\n",
       "        vertical-align: middle;\n",
       "    }\n",
       "\n",
       "    .dataframe tbody tr th {\n",
       "        vertical-align: top;\n",
       "    }\n",
       "\n",
       "    .dataframe thead th {\n",
       "        text-align: right;\n",
       "    }\n",
       "</style>\n",
       "<table border=\"1\" class=\"dataframe\">\n",
       "  <thead>\n",
       "    <tr style=\"text-align: right;\">\n",
       "      <th></th>\n",
       "      <th>Name</th>\n",
       "      <th>Price</th>\n",
       "      <th>Quantity</th>\n",
       "      <th>Total</th>\n",
       "    </tr>\n",
       "  </thead>\n",
       "  <tbody>\n",
       "    <tr>\n",
       "      <th>0</th>\n",
       "      <td>Apple</td>\n",
       "      <td>2000</td>\n",
       "      <td>3.0</td>\n",
       "      <td>6000.0</td>\n",
       "    </tr>\n",
       "    <tr>\n",
       "      <th>1</th>\n",
       "      <td>Banana</td>\n",
       "      <td>1000</td>\n",
       "      <td>2.0</td>\n",
       "      <td>2000.0</td>\n",
       "    </tr>\n",
       "    <tr>\n",
       "      <th>2</th>\n",
       "      <td>Momo</td>\n",
       "      <td>200</td>\n",
       "      <td>3.0</td>\n",
       "      <td>600.0</td>\n",
       "    </tr>\n",
       "    <tr>\n",
       "      <th>3</th>\n",
       "      <td>Coke</td>\n",
       "      <td>150</td>\n",
       "      <td>5.0</td>\n",
       "      <td>750.0</td>\n",
       "    </tr>\n",
       "  </tbody>\n",
       "</table>\n",
       "</div>"
      ],
      "text/plain": [
       "     Name  Price  Quantity   Total\n",
       "0   Apple   2000       3.0  6000.0\n",
       "1  Banana   1000       2.0  2000.0\n",
       "2    Momo    200       3.0   600.0\n",
       "3    Coke    150       5.0   750.0"
      ]
     },
     "execution_count": 8,
     "metadata": {},
     "output_type": "execute_result"
    }
   ],
   "source": [
    "import pandas as pd\n",
    "file = pd.read_csv('list_bill.csv')\n",
    "file"
   ]
  },
  {
   "cell_type": "code",
   "execution_count": 12,
   "id": "b21c3d9c-5b45-44b6-9cc5-adcbb46c5509",
   "metadata": {},
   "outputs": [
    {
     "data": {
      "text/html": [
       "<div>\n",
       "<style scoped>\n",
       "    .dataframe tbody tr th:only-of-type {\n",
       "        vertical-align: middle;\n",
       "    }\n",
       "\n",
       "    .dataframe tbody tr th {\n",
       "        vertical-align: top;\n",
       "    }\n",
       "\n",
       "    .dataframe thead th {\n",
       "        text-align: right;\n",
       "    }\n",
       "</style>\n",
       "<table border=\"1\" class=\"dataframe\">\n",
       "  <thead>\n",
       "    <tr style=\"text-align: right;\">\n",
       "      <th></th>\n",
       "      <th>Name</th>\n",
       "      <th>Price</th>\n",
       "      <th>Quantity</th>\n",
       "      <th>Total</th>\n",
       "    </tr>\n",
       "  </thead>\n",
       "  <tbody>\n",
       "    <tr>\n",
       "      <th>0</th>\n",
       "      <td>Apple</td>\n",
       "      <td>2000</td>\n",
       "      <td>3.0</td>\n",
       "      <td>6000.0</td>\n",
       "    </tr>\n",
       "    <tr>\n",
       "      <th>1</th>\n",
       "      <td>Banana</td>\n",
       "      <td>1000</td>\n",
       "      <td>2.0</td>\n",
       "      <td>2000.0</td>\n",
       "    </tr>\n",
       "    <tr>\n",
       "      <th>2</th>\n",
       "      <td>Momo</td>\n",
       "      <td>200</td>\n",
       "      <td>3.0</td>\n",
       "      <td>600.0</td>\n",
       "    </tr>\n",
       "    <tr>\n",
       "      <th>3</th>\n",
       "      <td>Coke</td>\n",
       "      <td>150</td>\n",
       "      <td>5.0</td>\n",
       "      <td>750.0</td>\n",
       "    </tr>\n",
       "  </tbody>\n",
       "</table>\n",
       "</div>"
      ],
      "text/plain": [
       "     Name  Price  Quantity   Total\n",
       "0   Apple   2000       3.0  6000.0\n",
       "1  Banana   1000       2.0  2000.0\n",
       "2    Momo    200       3.0   600.0\n",
       "3    Coke    150       5.0   750.0"
      ]
     },
     "execution_count": 12,
     "metadata": {},
     "output_type": "execute_result"
    }
   ],
   "source": [
    "col = ['Name','Price','Quantity','Total']\n",
    "bill = [['Apple', 2000, 3.0, 6000.0],\n",
    "       ['Banana', 1000, 2.0, 2000.0],\n",
    "       ['Momo', 200, 3.0, 600.0],\n",
    "       ['Coke', 150, 5.0, 750.0]]\n",
    "df = pd.DataFrame(bill,columns = col)\n",
    "df.to_csv('dataframe_bill.csv')\n",
    "df"
   ]
  },
  {
   "cell_type": "code",
   "execution_count": 2,
   "id": "c44ec5b9-7f21-4d2a-9e84-906196422909",
   "metadata": {},
   "outputs": [
    {
     "ename": "NameError",
     "evalue": "name 'pd' is not defined",
     "output_type": "error",
     "traceback": [
      "\u001b[1;31m---------------------------------------------------------------------------\u001b[0m",
      "\u001b[1;31mNameError\u001b[0m                                 Traceback (most recent call last)",
      "Cell \u001b[1;32mIn[2], line 11\u001b[0m\n\u001b[0;32m      5\u001b[0m bill \u001b[38;5;241m=\u001b[39m [[\u001b[38;5;124m'\u001b[39m\u001b[38;5;124mApple\u001b[39m\u001b[38;5;124m'\u001b[39m, \u001b[38;5;241m2000\u001b[39m, \u001b[38;5;241m3.0\u001b[39m, \u001b[38;5;241m6000.0\u001b[39m],\n\u001b[0;32m      6\u001b[0m        [\u001b[38;5;124m'\u001b[39m\u001b[38;5;124mBanana\u001b[39m\u001b[38;5;124m'\u001b[39m, \u001b[38;5;241m1000\u001b[39m, \u001b[38;5;241m2.0\u001b[39m, \u001b[38;5;241m2000.0\u001b[39m],\n\u001b[0;32m      7\u001b[0m        [\u001b[38;5;124m'\u001b[39m\u001b[38;5;124mMomo\u001b[39m\u001b[38;5;124m'\u001b[39m, \u001b[38;5;241m200\u001b[39m, \u001b[38;5;241m3.0\u001b[39m, \u001b[38;5;241m600.0\u001b[39m],\n\u001b[0;32m      8\u001b[0m        [\u001b[38;5;124m'\u001b[39m\u001b[38;5;124mCoke\u001b[39m\u001b[38;5;124m'\u001b[39m, \u001b[38;5;241m150\u001b[39m, \u001b[38;5;241m5.0\u001b[39m, \u001b[38;5;241m750.0\u001b[39m]]\n\u001b[0;32m     10\u001b[0m \u001b[38;5;66;03m# Create DataFrame from bill data with defined columns\u001b[39;00m\n\u001b[1;32m---> 11\u001b[0m df \u001b[38;5;241m=\u001b[39m pd\u001b[38;5;241m.\u001b[39mDataFrame(bill,columns \u001b[38;5;241m=\u001b[39m col)\n\u001b[0;32m     13\u001b[0m \u001b[38;5;66;03m# Export DataFrame to CSV file\u001b[39;00m\n\u001b[0;32m     14\u001b[0m df\u001b[38;5;241m.\u001b[39mto_csv(\u001b[38;5;124m'\u001b[39m\u001b[38;5;124mdataframe_bill.csv\u001b[39m\u001b[38;5;124m'\u001b[39m)\n",
      "\u001b[1;31mNameError\u001b[0m: name 'pd' is not defined"
     ]
    }
   ],
   "source": [
    "# Define column names for the bill DataFrame\n",
    "col = ['Name','Price','Quantity','Total']\n",
    "\n",
    "# Create list of lists containing bill data (item details)\n",
    "bill = [['Apple', 2000, 3.0, 6000.0],\n",
    "       ['Banana', 1000, 2.0, 2000.0],\n",
    "       ['Momo', 200, 3.0, 600.0],\n",
    "       ['Coke', 150, 5.0, 750.0]]\n",
    "\n",
    "# Create DataFrame from bill data with defined columns\n",
    "df = pd.DataFrame(bill,columns = col)\n",
    "\n",
    "# Export DataFrame to CSV file\n",
    "df.to_csv('dataframe_bill.csv')\n",
    "\n",
    "# Display the DataFrame\n",
    "df"
   ]
  },
  {
   "cell_type": "code",
   "execution_count": 18,
   "id": "1e4c12e0-73c9-4816-8399-7862fb455b45",
   "metadata": {},
   "outputs": [
    {
     "data": {
      "text/html": [
       "<div>\n",
       "<style scoped>\n",
       "    .dataframe tbody tr th:only-of-type {\n",
       "        vertical-align: middle;\n",
       "    }\n",
       "\n",
       "    .dataframe tbody tr th {\n",
       "        vertical-align: top;\n",
       "    }\n",
       "\n",
       "    .dataframe thead th {\n",
       "        text-align: right;\n",
       "    }\n",
       "</style>\n",
       "<table border=\"1\" class=\"dataframe\">\n",
       "  <thead>\n",
       "    <tr style=\"text-align: right;\">\n",
       "      <th></th>\n",
       "      <th>Name</th>\n",
       "      <th>Age</th>\n",
       "      <th>Add</th>\n",
       "    </tr>\n",
       "  </thead>\n",
       "  <tbody>\n",
       "    <tr>\n",
       "      <th>0</th>\n",
       "      <td>Ram</td>\n",
       "      <td>34</td>\n",
       "      <td>Kathmandu</td>\n",
       "    </tr>\n",
       "    <tr>\n",
       "      <th>1</th>\n",
       "      <td>Shyam</td>\n",
       "      <td>45</td>\n",
       "      <td>Bhaltapur</td>\n",
       "    </tr>\n",
       "    <tr>\n",
       "      <th>2</th>\n",
       "      <td>Hari</td>\n",
       "      <td>67</td>\n",
       "      <td>Lalitpur</td>\n",
       "    </tr>\n",
       "  </tbody>\n",
       "</table>\n",
       "</div>"
      ],
      "text/plain": [
       "    Name  Age        Add\n",
       "0    Ram   34  Kathmandu\n",
       "1  Shyam   45  Bhaltapur\n",
       "2   Hari   67   Lalitpur"
      ]
     },
     "execution_count": 18,
     "metadata": {},
     "output_type": "execute_result"
    }
   ],
   "source": [
    "data = {'Name':['Ram','Shyam','Hari'],\n",
    "        'Age':[34,45,67],\n",
    "        'Add':['Kathmandu','Bhaltapur','Lalitpur']}\n",
    "\n",
    "df = pd.DataFrame(data)\n",
    "df.to_csv('dictdata.csv')\n",
    "df"
   ]
  },
  {
   "cell_type": "code",
   "execution_count": 20,
   "id": "7b2f28ec-2470-4fc6-8774-24af6fa0e4cb",
   "metadata": {},
   "outputs": [],
   "source": [
    "import csv\n",
    "csv_columns = ['Name', 'Age', 'Address']\n",
    "dict = [\n",
    "    {'Name':'Aayush','Age':23,'Address':'Katmandu'},\n",
    "    {'Name':'Shyam','Age':33,'Address':'Patan'}\n",
    "]\n",
    "\n",
    "file = open(\"data.csv\", 'w')\n",
    "writer = csv.DictWriter(file, fieldnames=csv_columns)\n",
    "writer.writeheader()\n",
    "for data in dict:\n",
    "    writer.writerow(data)\n",
    "file.close()"
   ]
  },
  {
   "cell_type": "code",
   "execution_count": 22,
   "id": "15bc8529-83e5-4636-911d-b4aac7914e10",
   "metadata": {},
   "outputs": [
    {
     "data": {
      "text/html": [
       "<div>\n",
       "<style scoped>\n",
       "    .dataframe tbody tr th:only-of-type {\n",
       "        vertical-align: middle;\n",
       "    }\n",
       "\n",
       "    .dataframe tbody tr th {\n",
       "        vertical-align: top;\n",
       "    }\n",
       "\n",
       "    .dataframe thead th {\n",
       "        text-align: right;\n",
       "    }\n",
       "</style>\n",
       "<table border=\"1\" class=\"dataframe\">\n",
       "  <thead>\n",
       "    <tr style=\"text-align: right;\">\n",
       "      <th></th>\n",
       "      <th>Name</th>\n",
       "      <th>Age</th>\n",
       "      <th>Address</th>\n",
       "    </tr>\n",
       "  </thead>\n",
       "  <tbody>\n",
       "    <tr>\n",
       "      <th>0</th>\n",
       "      <td>Aayush</td>\n",
       "      <td>23</td>\n",
       "      <td>Katmandu</td>\n",
       "    </tr>\n",
       "    <tr>\n",
       "      <th>1</th>\n",
       "      <td>Shyam</td>\n",
       "      <td>33</td>\n",
       "      <td>Patan</td>\n",
       "    </tr>\n",
       "  </tbody>\n",
       "</table>\n",
       "</div>"
      ],
      "text/plain": [
       "     Name  Age   Address\n",
       "0  Aayush   23  Katmandu\n",
       "1   Shyam   33     Patan"
      ]
     },
     "execution_count": 22,
     "metadata": {},
     "output_type": "execute_result"
    }
   ],
   "source": [
    "df = pd.read_csv('data.csv')\n",
    "df"
   ]
  },
  {
   "cell_type": "code",
   "execution_count": 24,
   "id": "fa6db8e2-3bf1-4ed9-b45e-e4663eebc41c",
   "metadata": {},
   "outputs": [
    {
     "name": "stdout",
     "output_type": "stream",
     "text": [
      "{'Name': 'Aayush', 'Age': '23', 'Address': 'Katmandu'}\n",
      "{'Name': 'Shyam', 'Age': '33', 'Address': 'Patan'}\n"
     ]
    }
   ],
   "source": [
    "import csv\n",
    "file = open('data.csv')\n",
    "reader = csv.DictReader(file)\n",
    "for row in reader:\n",
    "    print(row)\n"
   ]
  },
  {
   "cell_type": "code",
   "execution_count": null,
   "id": "1d607eef-c22b-41d2-b969-dab3ddae858c",
   "metadata": {},
   "outputs": [],
   "source": []
  }
 ],
 "metadata": {
  "kernelspec": {
   "display_name": "Python 3 (ipykernel)",
   "language": "python",
   "name": "python3"
  },
  "language_info": {
   "codemirror_mode": {
    "name": "ipython",
    "version": 3
   },
   "file_extension": ".py",
   "mimetype": "text/x-python",
   "name": "python",
   "nbconvert_exporter": "python",
   "pygments_lexer": "ipython3",
   "version": "3.12.7"
  }
 },
 "nbformat": 4,
 "nbformat_minor": 5
}
